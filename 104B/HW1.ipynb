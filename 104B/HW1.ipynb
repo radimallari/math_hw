{
 "cells": [
  {
   "cell_type": "markdown",
   "metadata": {},
   "source": [
    "<header>\n",
    "    <center>    \n",
    "        <h1>Math 104B Homework 1</h1>\n",
    "        <h2>Rad Mallari<br>8360828</h2>\n",
    "    </center>\n",
    "</header>"
   ]
  },
  {
   "cell_type": "markdown",
   "metadata": {},
   "source": [
    "<b>1.)</b> Consider a reduced system where floating point numbers are represented in binary as $\\pm S\\cdot2^{E}$ where $S=1.b_{1}b_{2}$ and the exponent can only be $-1,0,1$.<br>\n",
    "&emsp;<b>(a)</b> How many numbers can this system represent?<br>\n",
    "&emsp; This system can represent $24$ numbers.<br>\n",
    "&emsp;<b>(b)</b> Display these numbers in the real line.<br>\n"
   ]
  },
  {
   "cell_type": "code",
   "execution_count": 1,
   "metadata": {},
   "outputs": [
    {
     "name": "stdout",
     "output_type": "stream",
     "text": [
      "[-3.5, -3, -2.5, -2, -1.75, -1.5, -1.25, -1, -0.875, -0.75, -0.625, -0.5, 0.5, 0.625, 0.75, 0.875, 1, 1.25, 1.5, 1.75, 2, 2.5, 3, 3.5]\n"
     ]
    },
    {
     "data": {
      "image/png": "[encoded data removed]",
      "text/plain": [
       "<Figure size 2160x1440 with 1 Axes>"
      ]
     },
     "metadata": {
      "needs_background": "light"
     },
     "output_type": "display_data"
    }
   ],
   "source": [
    "import matplotlib.pyplot as plt\n",
    "import matplotlib.ticker as ticker\n",
    "f_point_numbers = [1/2, 5/8, 3/4, 7/8, 1, 5/4, 3/2, 7/4, 2, 5/2, 3, 7/2]\n",
    "f_point_numbers += [-num for num in f_point_numbers]\n",
    "f_point_numbers.sort()\n",
    "print(f_point_numbers)\n",
    "\n",
    "fig = plt.figure(figsize=(30, 20))\n",
    "n=8\n",
    "ax = plt.subplot(n, 1, 2)\n",
    "plt.plot(f_point_numbers, [0 for x in range(len(f_point_numbers))], 'ro')\n",
    "ax.spines['right'].set_color('none')\n",
    "ax.spines['left'].set_color('none')\n",
    "ax.yaxis.set_major_locator(ticker.NullLocator())\n",
    "ax.spines['top'].set_color('none')\n",
    "ax.xaxis.set_ticks_position('bottom')\n",
    "ax.tick_params(which='major', width=1.00)\n",
    "ax.tick_params(which='major', length=5)\n",
    "ax.tick_params(which='minor', width=0.75)\n",
    "ax.tick_params(which='minor', length=2.5)\n",
    "ax.set_xlim(-5, 5)\n",
    "ax.set_ylim(0, 1)\n",
    "ax.patch.set_alpha(0.0)\n",
    "ax.xaxis.set_major_locator(ticker.MultipleLocator(0.5))\n",
    "ax.xaxis.set_minor_locator(ticker.MultipleLocator(0.1))"
   ]
  },
  {
   "cell_type": "markdown",
   "metadata": {},
   "source": [
    "&emsp;<b>(c)</b> What is the <em>eps</em> of this system?<br>\n",
    "<br>\n",
    "&emsp;&emsp; $eps=\\frac{2^{-2}}{2}$<br>\n",
    "<b>2.)</b> How many numbers are there in double precision?<br>\n",
    "<br>\n",
    "&emsp;Double precision have exponents $E_{min}=-1022$ and $E_{max}=1023$.<br>\n",
    "&emsp;So for we have $N_{min}=min_{x\\in DP}|x|=2^{-1022}\\approx 2.2\\times10^{308}$ and $N_{max}=max_{x\\in DP}|x|\\approx1.8\\times10^{308}$.<br>\n",
    "&emsp;Therefore, in total $N=2.2\\times10^{308}+1.8\\times10^{308}$\n",
    "<br><br>\n",
    "<b>3.)</b> Suppose we do arithmetic with only two digits using rounding. For example $x=3.47$ is represented as $x^{*}=3.5$. \n",
    "<br>\n",
    "&emsp;Let $x=2.5$ and $y=2.4$. Show that using this system, $(x-y)^{2}=0.01$, but $x^{2}-2xy+y^{2}=0.1$.<br>\n",
    "<br><br>\n",
    "&emsp;For this system, $(x-y)^{2}=(2.5-2.4)^{2}=(0.1)^{2}=0.01$. Meanwhile, $2.5^{2}-2\\cdot2.5\\cdot2.4+2.4^{2}=6.3-12+5.8=0.1$\n",
    "<br><br>\n",
    "<b>4.)</b> Suppose you need to compute $y=x-sinx$ for $x$ small. There is going to be a significant cancelation of digits if the computation is performed directly.\n",
    "<br>\n",
    "&emsp;How many digits are lost in double precision when $x=0.05$? Propose an alternative way to compute $y$ with nearly full machine precision.<br>\n",
    "<br>\n",
    "&emsp;Taylor expansion of $sinx$ about $0$, is given by\n",
    "$$sinx=x-\\frac{x^{3}}{3!}+\\frac{x^{5}}{5!}-...$$\n",
    "&emsp;We can use this expansion to compute $y$ with better precision.\n",
    "<br><br>\n",
    "<b>5.)</b> Let $y=\\sqrt{1+x}-1$, where $x$ is very small<br>\n",
    "&emsp;<b>(a)</b> Prove that $y$ can be written as\n",
    "$$y=\\frac{x}{\\sqrt{1+x}+1}$$\n",
    "&emsp;<b>(b)</b> Explain why (<b>??</b>) removes the digit cancellation problem that $y=\\sqrt{1+x}-1$ has.<br>\n",
    "\n",
    "&emsp;<b>Solution:</b><br>\n",
    "&emsp;<b>(a)</b> Multiplying by $\\frac{\\sqrt{1+x}+1}{\\sqrt{1+x}+1}$ gives us:\n",
    "$$y=\\frac{x}{\\sqrt{1+x}+1}\\cdot\\left(\\frac{\\sqrt{1+x}+1}{\\sqrt{1+x}+1}\\right)=\\frac{1+x-1}{\\sqrt{1+x}+1}$$\n",
    "&emsp;&emsp;Which simplifies to:\n",
    "$$y=\\frac{x}{\\sqrt{1+x}+1}$$\n",
    "&emsp;<b>(b)</b> We know that subtracting $\\sqrt{1+x}$ and $-1$ causes digit cancellation for small values of $x$.<br>\n",
    "&emsp;&emsp;Rewriting our $y$ this way is $\\approx 2$ in the denominator for small $x$, thereby removing digit cancellation problem.\n",
    "<br><br>\n",
    "<b>6.)</b> Machine precision ($eps=2^{-52}$) can be computer by the following program (attributed to Cleve Moler):<br>\n",
    "&emsp;# Machine precision<br>\n",
    "&emsp;$a=\\frac{4}{3}$<br>\n",
    "&emsp;$b=a-1$<br>\n",
    "&emsp;$c=b+b+b$<br>\n",
    "&emsp;$eps0=|c-1|$<br>\n",
    "&emsp;Run the program and prove its validity.\n"
   ]
  },
  {
   "cell_type": "code",
   "execution_count": 3,
   "metadata": {},
   "outputs": [
    {
     "name": "stdout",
     "output_type": "stream",
     "text": [
      "Showing machine precision (eps=2**-(52))\n",
      "a: 1.3333333333333333\n",
      "b: 0.33333333333333326\n",
      "c: 0.9999999999999998\n",
      "eps0: 2.220446049250313e-16\n"
     ]
    }
   ],
   "source": [
    "# machine precision\n",
    "print(\"Showing machine precision (eps=2**-(52))\")\n",
    "a = 4/3\n",
    "print(f\"a: {a}\")\n",
    "b = a-1\n",
    "print(f\"b: {b}\")\n",
    "c = b+b+b\n",
    "print(f\"c: {c}\")\n",
    "eps_0 = abs(c-1)\n",
    "print(f\"eps0: {eps_0}\")"
   ]
  },
  {
   "cell_type": "code",
   "execution_count": null,
   "metadata": {},
   "outputs": [],
   "source": []
  }
 ],
 "metadata": {
  "kernelspec": {
   "display_name": "Python 3",
   "language": "python",
   "name": "python3"
  },
  "language_info": {
   "codemirror_mode": {
    "name": "ipython",
    "version": 3
   },
   "file_extension": ".py",
   "mimetype": "text/x-python",
   "name": "python",
   "nbconvert_exporter": "python",
   "pygments_lexer": "ipython3",
   "version": "3.9.10"
  }
 },
 "nbformat": 4,
 "nbformat_minor": 4
}
