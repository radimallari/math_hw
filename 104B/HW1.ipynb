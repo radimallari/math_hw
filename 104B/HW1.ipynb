{
 "cells": [
  {
   "cell_type": "markdown",
   "metadata": {},
   "source": [
    "<header>\n",
    "    <center>    \n",
    "        <h1>Math 104B Homework 1</h1>\n",
    "        <h2>Rad Mallari<br>8360828</h2>\n",
    "    </center>\n",
    "</header>"
   ]
  },
  {
   "cell_type": "markdown",
   "metadata": {},
   "source": [
    "<b>1.)</b> Consider a reduced system where floating point numbers are represented in binary as $\\pm S\\cdot2^{E}$ where $S=1.b_{1}b_{2}$ and the exponent can only be $-1,0,1$.<br>\n",
    "&emsp;<b>(a)</b> How many numbers can this system represent?<br>\n",
    "&emsp;<b>(b)</b> Display these numbers in the real line.<br>\n",
    "&emsp;<b>(c)</b> What is the <em>eps</em> of this system?<br>\n",
    "<br>\n",
    "<b>2.)</b> How many numbers are there in double precision?<br>\n",
    "<br>\n",
    "<b>3.)</b> Suppose we do arithmetic with only two digits using rounding. For example $x=3.47$ is represented as $x^{*}=3.5$. Let $x=2.5$ and $y=2.4$. Show that using this system, $(x-y)^{2}=0.01$, but $x^{2}-2xy+y^{2}=0.1$.<br>\n",
    "<br>\n",
    "<b>4.)</b> Suppose you need to compute $y=x-sinx$ for $x$ small. There is going to be a significant cancelation of digits if the computation is performed directly. How many digits are lost in double precision when $x=0.05$? Propse an alternative way to compute $y$ with nearly full machine precision.<br>\n",
    "<br>\n",
    "<b>5.)</b> Let $y=\\sqrt{1+x}-1$, where $x$ is very small<br>\n",
    "&emsp;<b>(a)</b> Prove that $y$ can be written as\n",
    "$$y=\\frac{x}{\\sqrt{1+x}+x}$$\n",
    "&emsp;<b>(b)</b> Explain why (<b>??</b>) removes the digit cancelation problem that $y=\\sqrt{1+x}-1$ has.<br>\n",
    "<br>\n",
    "<b>6.)</b> Machine precision ($eps=2^{-52}$) can be computer by the following program (attributed to Cleve Moler):<br>\n",
    "&emsp;# Machine precision<br>\n",
    "&emsp;$a=\\frac{4}{3}$<br>\n",
    "&emsp;$b=a-1$<br>\n",
    "&emsp;$c=b+b+b$<br>\n",
    "&emsp;$eps0=|c-1|$<br>\n",
    "&emsp;Run the program and prove its validity."
   ]
  },
  {
   "cell_type": "markdown",
   "metadata": {},
   "source": []
  }
 ],
 "metadata": {
  "kernelspec": {
   "display_name": "Python 3",
   "language": "python",
   "name": "python3"
  },
  "language_info": {
   "codemirror_mode": {
    "name": "ipython",
    "version": 3
   },
   "file_extension": ".py",
   "mimetype": "text/x-python",
   "name": "python",
   "nbconvert_exporter": "python",
   "pygments_lexer": "ipython3",
   "version": "3.7.6"
  }
 },
 "nbformat": 4,
 "nbformat_minor": 4
}
