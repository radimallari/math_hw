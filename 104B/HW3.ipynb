{
 "cells": [
  {
   "cell_type": "markdown",
   "metadata": {},
   "source": [
    "<header>\n",
    "    <center>    \n",
    "        <h1>Math 104B Homework 3</h1>\n",
    "        <h2>Rad Mallari, 8360828</h2>\n",
    "        <h2>April 18th, 2022</h2>\n",
    "    </center>\n",
    "</header>"
   ]
  },
  {
   "cell_type": "markdown",
   "metadata": {},
   "source": [
    "<b>1.)</b> Derive directly the Simpson rule on $[-1,1]$ by approximating the integrand $f$ with the<br>\n",
    "&emsp;&emsp; Hermite-interpolation polynomial, which interpolates $f(-1)$, $f(0)$, $f'(0)$, and $f(1)$.<br>\n",
    "<br>"
   ]
  },
  {
   "cell_type": "markdown",
   "metadata": {},
   "source": [
    "\n",
    "&emsp;<b>Proof:</b>"
   ]
  },
  {
   "cell_type": "markdown",
   "metadata": {},
   "source": [
    "<b>2.)</b> Let\n",
    "$$f(x)=\\begin{cases}\n",
    "1+x,&-1\\leq x\\leq 0\\\\\n",
    "1-x,&0\\leq x\\leq 1\n",
    "\\end{cases}\n",
    "$$\n",
    "&emsp; Find an approximation of the integral of $f$ over $[-1,1]$ by using<br>\n",
    "&emsp;&emsp;<b>(a)</b> the simple Trapezoidal rule over $[-1,1]$.<br>\n",
    "&emsp;&emsp;<b>(b)</b> the simple Simpson rule over $[-1,1]$.<br>\n",
    "&emsp;&emsp;<b>(c)</b> the simple Trapezoidal rule over $[-1,0]$ and then the Trapezoidal rule over $[0,1]$.<br>\n",
    "&emsp; Compute the error in each case and explain the differences in the accuracy of the results."
   ]
  },
  {
   "cell_type": "markdown",
   "metadata": {},
   "source": [
    "&emsp;<b>Proof:</b><br>\n",
    "&emsp;&emsp;<b>(a)</b><br>\n",
    "&emsp;&emsp;<b>(b)</b><br>\n",
    "&emsp;&emsp;<b>(c)</b>"
   ]
  },
  {
   "cell_type": "markdown",
   "metadata": {},
   "source": [
    "<b>3.)&emsp;(a)</b> Construct a quadrature rule of the form\n",
    "$$\\int_{-1}^{1}f(x)dx\\approx A_{0}f(-1)+A_{1}f(0)+A_{2}f(1)$$\n",
    "&emsp;&emsp;&emsp;which is exact for polynomials of degree $\\leq 2$.<br>\n",
    "&emsp;&emsp;<b>(b)</b> Derive the 3-point (Legendre) Gaussian quadrature to approximate $\\int_{-1}^{1}f(x)dx$<br>\n",
    "&emsp;&emsp;&emsp; (i.e you need to obtain the nodes $x_{0},x_{1},x_{2}$ and the corresponding weights $A_{0},A_{1},A_{2}$).<br>\n",
    "&emsp;&emsp;<b>(c)</b> Verify its degree of precision.<br>\n",
    "&emsp;&emsp;<b>(d)</b> Compare the accuracy of this 3-point Gaussian quadrature with that of the simple Simpson<br>\n",
    "&emsp;&emsp;&emsp; rule for approximating $\\int_{-1}^{1}e^{x}dx$.<br>\n",
    "&emsp;&emsp;<b>(e)</b> Show that the 3-point Gaussian quadrature can be used for approximating $\\int_{a}^{b}f(x)dx$<br>\n",
    "&emsp;&emsp;&emsp; by doing a simple change of variables and apply this to approximate\n",
    "$$\\int_{0}^{4}\\frac{\\sin x}{x}dx$$"
   ]
  },
  {
   "cell_type": "markdown",
   "metadata": {},
   "source": [
    "&emsp;<b>Proof:</b><br>\n",
    "&emsp;&emsp;<b>(a)</b><br>\n",
    "&emsp;&emsp;<b>(b)</b><br>\n",
    "&emsp;&emsp;<b>(c)</b><br>\n",
    "&emsp;&emsp;<b>(d)</b><br>\n",
    "&emsp;&emsp;<b>(e)</b><br>"
   ]
  }
 ],
 "metadata": {
  "language_info": {
   "name": "python"
  },
  "orig_nbformat": 4
 },
 "nbformat": 4,
 "nbformat_minor": 2
}
