{
 "cells": [
  {
   "cell_type": "markdown",
   "metadata": {},
   "source": [
    "<header>\n",
    "    <center>    \n",
    "        <h1>Math 104B Homework 5</h1>\n",
    "        <h2>Rad Mallari, 8360828</h2>\n",
    "        <h2>May 16th, 2022</h2>\n",
    "    </center>\n",
    "</header>"
   ]
  },
  {
   "cell_type": "markdown",
   "metadata": {},
   "source": [
    "<b>1.)</b> <b>(a)</b> Implement Gaussian Elimination with partial pivoting to solve a linear system $Ax=b$,<br>\n",
    "&emsp;&emsp; given as ouput the coefficients of a nonsingular $n\\times n$ matrix $A$ and an $n$-vector $b$.<br>\n",
    "&emsp;&emsp; Your code should produce the solution $x$ or an error message (if $A$ is nonsingular) and the information needed for $LU$ factorization."
   ]
  },
  {
   "cell_type": "code",
   "execution_count": null,
   "metadata": {},
   "outputs": [],
   "source": [
    "def gaussian_elim():\n",
    "    \"\"\"Solves linear system using Gaussian Elimantion\n",
    "    \n",
    "    Takes matrix A and solution matrix b,\n",
    "    returns matrix x\"\"\"\n",
    "    pass\n"
   ]
  },
  {
   "cell_type": "markdown",
   "metadata": {},
   "source": [
    "&emsp;&emsp;<b>(b)</b> Let\n",
    "$$A=\\begin{bmatrix}\n",
    "5&1&0&2&1\\\\\n",
    "0&4&0&1&2\\\\\n",
    "1&1&4&1&1\\\\\n",
    "0&1&2&6&0\\\\\n",
    "0&0&1&2&4\\end{bmatrix},\\quad b=\\begin{bmatrix}\n",
    "1\\\\\n",
    "2\\\\\n",
    "3\\\\\n",
    "4\\\\\n",
    "5\\end{bmatrix}$$\n",
    "&emsp;&emsp; Use your Gaussian Elimination code to solve $Ax=b$."
   ]
  },
  {
   "cell_type": "code",
   "execution_count": null,
   "metadata": {},
   "outputs": [],
   "source": [
    "matrix_A = [[]]"
   ]
  },
  {
   "cell_type": "markdown",
   "metadata": {},
   "source": [
    "&emsp;&emsp;<b>(c)</b> T"
   ]
  }
 ],
 "metadata": {
  "language_info": {
   "name": "python"
  },
  "orig_nbformat": 4
 },
 "nbformat": 4,
 "nbformat_minor": 2
}
