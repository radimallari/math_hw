{
 "cells": [
  {
   "cell_type": "markdown",
   "metadata": {},
   "source": [
    "<header>\n",
    "    <center>    \n",
    "        <h1>Math 104B Homework 6</h1>\n",
    "        <h2>Rad Mallari, 8360828</h2>\n",
    "        <h2>May 22nd, 2022</h2>\n",
    "    </center>\n",
    "</header>"
   ]
  },
  {
   "cell_type": "markdown",
   "metadata": {},
   "source": [
    "<b>1.) (a)</b> Implement the tridiagonal solver seen in class"
   ]
  },
  {
   "cell_type": "code",
   "execution_count": 1,
   "metadata": {},
   "outputs": [],
   "source": [
    "from math import pi, sin, sqrt\n",
    "from matplotlib import pyplot as plt\n",
    "def tridiagonal_matrix_solver(a, b, c, d):\n",
    "    n = len(a)\n",
    "    # Initialize variables\n",
    "    m, l, y, x = [], [], [], [0 for i in range(n)]\n",
    "\n",
    "    m.append(a[0])\n",
    "    for j in range(n-1):\n",
    "        l.append(c[j] / m[j])\n",
    "        m.append(a[j+1] - l[j] * b[j])\n",
    " \n",
    "    # Forward substitution\n",
    "    y.append(d[0])\n",
    "    for j in range(1, n):\n",
    "        y.append(d[j] - l[j - 1] * y[j - 1])\n",
    "\n",
    "    # Backward substitution\n",
    "    x[-1] = y[-1] / m[-1]\n",
    "    for j in reversed(range(n-1)):\n",
    "        x[j] = (y[j] - b[j] * x[j + 1]) / m[j]\n",
    "    return x"
   ]
  },
  {
   "cell_type": "markdown",
   "metadata": {},
   "source": [
    "&emsp;&emsp;<b>(b)</b> Test implementation"
   ]
  },
  {
   "cell_type": "code",
   "execution_count": 2,
   "metadata": {},
   "outputs": [
    {
     "name": "stdout",
     "output_type": "stream",
     "text": [
      "[1.0, 1.0, 1.0, 1.0, 1.0]\n"
     ]
    }
   ],
   "source": [
    "b_n = [-1,-1,-1,-1]\n",
    "a_n = [3,3,3,3,3]\n",
    "c_n = [-1,-1,-1,-1]\n",
    "d_n = [2,1,1,1,2]\n",
    "result = tridiagonal_matrix_solver(a_n, b_n, c_n, d_n)\n",
    "print(result)"
   ]
  },
  {
   "cell_type": "markdown",
   "metadata": {},
   "source": [
    "<b>2.)</b> Consider the boundary value problem:\n",
    "$$\\begin{equation}\n",
    "\\begin{split}\n",
    "-u''+\\pi^{2}u&=2\\pi^{2}\\sin(\\pi x)\\quad 0<x<1,\\\\\n",
    "u(0)&=u(1)=0\n",
    "\\end{split}\n",
    "\\end{equation}$$\n",
    "&emsp;&emsp; We can find a numerical approximation to the solution of this problem by employing the finite difference method.<br>\n",
    "&emsp;&emsp; Use a uniform grid with $N-1$ interior nodes to obtain, by replacing the second order derivative with a second order finite difference<br>\n",
    "&emsp;&emsp; and neglecting the (truncation) error, the linear system\n",
    "$$\\begin{equation}\n",
    "\\frac{-v_{j-1}+2v_{j}-v_{j+1}}{h^{2}}+\\pi^{2}v_{j}=2\\pi^{2}\\sin(\\pi x_{j})\\quad\\text{for }j=1,2,...,N-1\n",
    "\\end{equation}$$\n",
    "&emsp;&emsp; where $h=\\frac{1}{N}$, $v_{j}$ is the approximation to $u(x_{j})$ for $j=1,2,...,N-1$, and $v_{0}=v_{N}=0$.<br>\n",
    "&emsp;&emsp;<b>(a)</b> Use your tridiagonal solver to solve the equation <b>(1)</b> for $N=50$ and plot your corresponding solution.<br>"
   ]
  },
  {
   "cell_type": "code",
   "execution_count": 3,
   "metadata": {},
   "outputs": [
    {
     "data": {
      "text/plain": [
       "[<matplotlib.lines.Line2D at 0x1f12b9d0370>]"
      ]
     },
     "execution_count": 3,
     "metadata": {},
     "output_type": "execute_result"
    },
    {
     "data": {
      "image/png": "[encoded data removed]",
      "text/plain": [
       "<Figure size 432x288 with 1 Axes>"
      ]
     },
     "metadata": {
      "needs_background": "light"
     },
     "output_type": "display_data"
    }
   ],
   "source": [
    "N = 50\n",
    "h = 1/N\n",
    "\n",
    "x_n = [x*h for x in range(N)]\n",
    "a_j, b_j, c_j, f_j = [], [], [], []\n",
    "\n",
    "for i in range(N-1):\n",
    "    a_j.append(-1)\n",
    "    c_j.append(-1)\n",
    "for i in range(N):\n",
    "    b_j.append(2+h**2*pi**2)\n",
    "\n",
    "f_j.append(0)\n",
    "for i in range(1, N-1):\n",
    "    two_pi_squared = 2*(pi**2)*h**2\n",
    "    f_j.append(two_pi_squared*sin(pi*x_n[i]))\n",
    "f_j.append(0)\n",
    "\n",
    "v_j = tridiagonal_matrix_solver(b_j, a_j, c_j, f_j)\n",
    "\n",
    "plt.plot(x_n, v_j)"
   ]
  },
  {
   "cell_type": "markdown",
   "metadata": {},
   "source": [
    "&emsp;&emsp;<b>(b)</b> The exact solution to the boundary value problem <b>(1)</b> is $u(x)=\\sin(\\pi x)$. Check this."
   ]
  },
  {
   "cell_type": "code",
   "execution_count": 4,
   "metadata": {},
   "outputs": [
    {
     "name": "stdout",
     "output_type": "stream",
     "text": [
      "Approximated solution\t|\tExact Solution\n",
      "---------------------------------------------------\n",
      "0.058961398156278544\t|\t0.0\n",
      "0.11815556658245212\t|\t0.06279051952931337\n",
      "0.1773204204182933\t|\t0.12533323356430426\n",
      "0.2361957156679686\t|\t0.1873813145857246\n",
      "0.29452397066990016\t|\t0.2486898871648548\n",
      "0.3520513830587968\t|\t0.3090169943749474\n",
      "0.4085287382093966\t|\t0.3681245526846779\n",
      "0.4637123052087771\t|\t0.4257792915650727\n",
      "0.5173647164755499\t|\t0.4817536741017153\n",
      "0.5692558272296767\t|\t0.5358267949789967\n",
      "0.6191635511157552\t|\t0.5877852522924731\n",
      "0.6668746683951311\t|\t0.6374239897486896\n",
      "0.7121856032477072\t|\t0.6845471059286886\n",
      "0.7549031668624244\t|\t0.7289686274214116\n",
      "0.7948452631456027\t|\t0.7705132427757893\n",
      "0.8318415540381138\t|\t0.8090169943749475\n",
      "0.865734081605131\t|\t0.8443279255020151\n",
      "0.8963778442453433\t|\t0.8763066800438637\n",
      "0.9236413245593448\t|\t0.9048270524660196\n",
      "0.9474069666187114\t|\t0.9297764858882513\n",
      "0.9675716005873014\t|\t0.9510565162951535\n",
      "0.9840468128637724\t|\t0.9685831611286311\n",
      "0.9967592601383737\t|\t0.9822872507286886\n",
      "1.0056509259869097\t|\t0.9921147013144779\n",
      "1.0106793188594947\t|\t0.9980267284282716\n",
      "1.0118176105604415\t|\t1.0\n",
      "1.0090547145574316\t|\t0.9980267284282716\n",
      "1.0023953037020754\t|\t0.9921147013144778\n",
      "0.9918597671891558\t|\t0.9822872507286886\n",
      "0.977484106827301\t|\t0.9685831611286312\n",
      "0.9593197729386244\t|\t0.9510565162951536\n",
      "0.9374334404480374\t|\t0.9297764858882515\n",
      "0.9119067259635584\t|\t0.9048270524660195\n",
      "0.8828358468860659\t|\t0.8763066800438635\n",
      "0.8503312238196679\t|\t0.844327925502015\n",
      "0.8145170277812697\t|\t0.8090169943749475\n",
      "0.7755306739291411\t|\t0.7705132427757893\n",
      "0.7335222637444507\t|\t0.7289686274214114\n",
      "0.6886539778060164\t|\t0.6845471059286888\n",
      "0.6410994214961135\t|\t0.6374239897486899\n",
      "0.5910429261633173\t|\t0.5877852522924732\n",
      "0.5386788084463018\t|\t0.5358267949789967\n",
      "0.4842105906295753\t|\t0.4817536741017156\n",
      "0.4278501850576573\t|\t0.4257792915650729\n",
      "0.36981704577758145\t|\t0.36812455268467814\n",
      "0.3103372907102867\t|\t0.3090169943749475\n",
      "0.249642797768923\t|\t0.24868988716485482\n",
      "0.18797027844588857\t|\t0.18738131458572457\n",
      "0.1255603324801298\t|\t0.12533323356430454\n",
      "0.06265648729151906\t|\t0.06279051952931358\n"
     ]
    }
   ],
   "source": [
    "exact_solution = []\n",
    "for i in range(N):\n",
    "    exact_solution.append(sin(x_n[i]*pi))\n",
    "print(\"Approximated solution\\t|\\tExact Solution\")\n",
    "print(\"-\"*51)\n",
    "for i in range(N):\n",
    "    print(f\"{v_j[i]}\\t|\\t{exact_solution[i]}\")\n"
   ]
  },
  {
   "cell_type": "markdown",
   "metadata": {},
   "source": [
    "&emsp;&emsp;<b>(c)</b> Compute the error of your approximation in the $2$-norm for $N=50$. Solve <b>(1)</b> for $N=100$, by how much do you expect the error to decrease?<br>\n",
    "&emsp;&emsp; Verify your answer by comparing the error for $N=50$ and $N=100$."
   ]
  },
  {
   "cell_type": "code",
   "execution_count": 5,
   "metadata": {},
   "outputs": [
    {
     "name": "stdout",
     "output_type": "stream",
     "text": [
      "Error of approximation in 2-norm for N = 50: 0.13332401513551698\n",
      "I expect the same amount of error between N = 50 and N = 100\n",
      "Error of approximation in 2-norm for N = 100: 0.13332401513551698\n"
     ]
    }
   ],
   "source": [
    "error_2_norm_50 = sqrt(1/N*sum([x - y for x, y in zip(v_j, exact_solution)]))\n",
    "print(f\"Error of approximation in 2-norm for N = 50: {error_2_norm_50}\")\n",
    "print(f\"I expect the same amount of error between N = 50 and N = 100\")\n",
    "N = 100\n",
    "h = 1/N\n",
    "\n",
    "x_n = [x*h for x in range(N)]\n",
    "a_j, b_j, c_j, f_j = [], [], [], []\n",
    "\n",
    "for i in range(N-1):\n",
    "    a_j.append(-1)\n",
    "    c_j.append(-1)\n",
    "for i in range(N):\n",
    "    b_j.append(2+h**2*pi**2)\n",
    "\n",
    "f_j.append(0)\n",
    "for i in range(1, N-1):\n",
    "    two_pi_squared = 2*(pi**2)*h**2\n",
    "    f_j.append(two_pi_squared*sin(pi*x_n[i]))\n",
    "f_j.append(0)\n",
    "\n",
    "v_j = tridiagonal_matrix_solver(b_j, a_j, c_j, f_j)\n",
    "\n",
    "error_2_norm_100 = sqrt(1/N*sum([x - y for x, y in zip(v_j, exact_solution)]))\n",
    "print(f\"Error of approximation in 2-norm for N = 100: {error_2_norm_50}\")\n"
   ]
  },
  {
   "cell_type": "markdown",
   "metadata": {},
   "source": [
    "&emsp;&emsp;<b>(d)</b> In real applications we do not know the exact solution. Describe a process to check the convergence and rate of convergence of your approximation<br>\n",
    "&emsp;&emsp; if you don't know the exact solution."
   ]
  },
  {
   "cell_type": "markdown",
   "metadata": {},
   "source": [
    "&emsp;&emsp;<b>Proof:</b>"
   ]
  },
  {
   "cell_type": "markdown",
   "metadata": {},
   "source": [
    "<b>3.)</b> Consider the linear system\n",
    "$$x_{1}-2x_{2}+x_{3}=-1$$\n",
    "$$2x_{1}+x_{2}-3x_{3}=3$$\n",
    "$$x_{1}-x_{2}+x_{3}=0$$\n",
    "&emsp;&emsp;<b>(a)</b> Do the first iterations of Jacobi."
   ]
  },
  {
   "cell_type": "markdown",
   "metadata": {},
   "source": [
    "&emsp;&emsp;<b>Proof:</b><br>\n",
    "&emsp;&emsp;Solving for $x_{1}$ in the first equation, $x_{2}$ in the second equation, and $x_{3}$ in the third equation, we have:\n",
    "$$x_{1}^{k+1}=-1-2x_{2}^{k}-x_{3}^{k}$$\n",
    "$$x_{2}^{k+1}=3-2x_{1}^{k}+3x_{3}^{k}$$\n",
    "$$x_{3}^{k+1}=-x_{1}^{k}+x_{2}^{k}$$\n",
    "&emsp;&emsp;where $k$ is the number of iterations. Now taking the first guess $x_{1}=x_{2}=x_{3}=0$, we have the first iteration:\n",
    "$$x_{1}^{1}=-1+2\\cdot0-0=-1$$\n",
    "$$x_{2}^{1}=3-2\\cdot0+3\\cdot0=3$$\n",
    "$$x_{3}^{1}=-0+0=0$$\n",
    "&emsp;&emsp;which tells us that $x^{1}=[-1,3,0]$"
   ]
  },
  {
   "cell_type": "markdown",
   "metadata": {},
   "source": [
    "&emsp;&emsp;<b>(b)</b> Do the first two iterations of Gauss-Seidel.\n"
   ]
  },
  {
   "cell_type": "markdown",
   "metadata": {},
   "source": [
    "&emsp;&emsp;<b>Proof:</b><br>\n",
    "&emsp;&emsp;We begin simlarly by solving for $x_{1}$ in the first equation, $x_{2}$ in the second equation, and $x_{3}$ in the third equation, yielding:\n",
    "$$x_{1}^{k+1}=-1-2x_{2}^{k}-x_{3}^{k}$$\n",
    "$$x_{2}^{k+1}=3-2x_{1}^{k}+3x_{3}^{k}$$\n",
    "$$x_{3}^{k+1}=-x_{1}^{k}+x_{2}^{k}$$\n",
    "&emsp;&emsp;Taking the first guess $x_{1}=x_{2}=x_{3}=0$ (this is our first iteration), then using the most recent value for $x_{1},x_{2},x_{3}$, we have the second iteration:\n",
    "$$x_{1}^{1}=-1+2\\cdot0-0=-1$$\n",
    "$$x_{2}^{1}=3-2\\cdot-1+3\\cdot0=5$$\n",
    "$$x_{3}^{1}=-(-1)+5=6$$\n",
    "&emsp;&emsp;Giving us $x^{1}=[-1,5,6]$\n"
   ]
  },
  {
   "cell_type": "markdown",
   "metadata": {},
   "source": [
    "&emsp;&emsp;<b>(c)</b> Which of the two approximations is closer to the exact solution $(1,1,0)$?"
   ]
  },
  {
   "cell_type": "markdown",
   "metadata": {},
   "source": [
    "&emsp;&emsp;<b>Proof:</b><br>\n",
    "&emsp;&emsp;The Jacobi is a closer approximation since the distance ($\\ell^{2}$ norm) is lesser than Gauss-Seidel."
   ]
  },
  {
   "cell_type": "markdown",
   "metadata": {},
   "source": [
    "<b>4.)</b> Consider the system\n",
    "$$2x_{1}-x_{2}+x_{3}=-1$$\n",
    "$$2x_{1}+2x_{2}+2x_{3}=4$$\n",
    "$$-x_{1}-x_{2}+2x_{3}=-5$$\n",
    "&emsp;&emsp;By finding the spectral radius of the Jacobi and Gauss-Seidel iteration matrices prove that the Jacobi method diverges while Gauss-Seidel's method converges<br>\n",
    "&emsp;&emsp;for this system."
   ]
  },
  {
   "cell_type": "markdown",
   "metadata": {},
   "source": [
    "&emsp;&emsp;<b>Proof:</b><br>\n",
    "&emsp;&emsp;The spectral radius of some matrix $A$ is given by:\n",
    "$$\\rho(A)=\\max_{1\\leq i\\leq n}|\\lambda_{i}|$$\n",
    "&emsp;&emsp;Where $\\lambda_{i}$ are the eigenvalues of the matrix and $n$ is number of rows in the matrix.<br>\n",
    "&emsp;&emsp;The Jacobi method decomposes $A$ to it's diagonal, $D$, lower triangular, $L$, and upper triangular $U$ matrices.<br>\n",
    "&emsp;&emsp;Through iteration, we obtain the solution of the form:\n",
    "$$\\begin{equation}\n",
    "\\begin{split}\n",
    "x^{k+1}&=D^{-1}(b-(L+U)x^{k})\\\\\n",
    "&=D^{-1}b-D^{-1}(L+U)x^{k}\n",
    "\\end{split}\n",
    "\\end{equation}$$\n",
    "&emsp;&emsp;Meanwhile the condition for convergence is $\\rho(D^{-1}(L+U))<1$ so for our system:\n",
    "$$A=\\begin{bmatrix}\n",
    "2&-1&1\\\\\n",
    "2&2&2\\\\\n",
    "-1&-1&2\\end{bmatrix},\\quad b=\\begin{bmatrix}\n",
    "-1\\\\\n",
    "4\\\\\n",
    "-5\n",
    "\\end{bmatrix}$$\n",
    "&emsp;&emsp;And our decomposed matrix is given by:\n",
    "$$A=\\begin{bmatrix}\n",
    "2&0&0\\\\\n",
    "0&2&0\\\\\n",
    "0&0&2\\end{bmatrix}\n",
    "+\\begin{bmatrix}\n",
    "0&0&0\\\\\n",
    "2&0&0\\\\\n",
    "-1&-1&0\\end{bmatrix}+\\begin{bmatrix}\n",
    "0&-1&1\\\\\n",
    "0&0&2\\\\\n",
    "0&0&0\\end{bmatrix}\n",
    "$$\n",
    "&emsp;&emsp;So $D^{-1}(L+U)$ is:\n",
    "$$\\begin{equation}\n",
    "\\begin{split}\n",
    "D^{-1}(L+U)&=\n",
    "\\begin{bmatrix}\n",
    "\\frac{1}{2}&0&0\\\\\n",
    "0&\\frac{1}{2}&0\\\\\n",
    "0&0&\\frac{1}{2}\\end{bmatrix}\\left(\\begin{bmatrix}\n",
    "0&0&0\\\\\n",
    "2&0&0\\\\\n",
    "-1&-1&0\\end{bmatrix}+\\begin{bmatrix}\n",
    "0&-1&1\\\\\n",
    "0&0&2\\\\\n",
    "0&0&0\\end{bmatrix}\\right)\\\\\n",
    "&=\\begin{bmatrix}\n",
    "0&-\\frac{1}{2}&\\frac{1}{2}\\\\\n",
    "1&0&1\\\\\n",
    "-\\frac{1}{2}&-\\frac{1}{2}&0\n",
    "\\end{bmatrix}\n",
    "\\end{split}\n",
    "\\end{equation}$$\n",
    "&emsp;&emsp;After calculations, we find that the eigenvalues are $\\lambda=\\{-\\frac{\\sqrt{5}}{2}i,\\frac{\\sqrt{5}}{2}i,0\\}$ and certainly the max eigenvalue is greater than $1$.<br>\n",
    "&emsp;&emsp;Therefore, the Jacobi method diverges for this system.<br><br>\n",
    "&emsp;&emsp;Now the Gauss-Seidel method is defined as:\n",
    "$$L_{\\ast}x^{k+1}=b-Ux^{k}$$\n",
    "&emsp;&emsp;where $L_{\\ast}$ is the lower triangular component of $A$ and $U$ is the strictly upper trianglur component.<br>\n",
    "&emsp;&emsp;This can be rewritten as:\n",
    "$$x^{k+1}=L_{\\ast}^{-1}b-L_{\\ast}^{-1}Ux^{k}$$\n",
    "&emsp;&emsp;Therefore, we must check that the spectral radius $\\rho(L_{\\ast}^{-1}U)<1$ for this to converge, which in this case is given by:\n",
    "$$\\begin{bmatrix}\n",
    "\\frac{1}{2}&0&0\\\\\n",
    "-\\frac{1}{2}&\\frac{1}{2}&0\\\\\n",
    "0&\\frac{1}{4}&\\frac{1}{2}\\end{bmatrix}\\begin{bmatrix}\n",
    "0&-1&1\\\\\n",
    "0&0&2\\\\\n",
    "0&0&0\\end{bmatrix}=\\begin{bmatrix}\n",
    "0&-1/2&1/2\\\\\n",
    "0&1/2&1/2\\\\\n",
    "0&0&1/2\\end{bmatrix}$$\n",
    "&emsp;&emsp;Which have the eigenvalues $\\lambda=\\{0,\\frac{1}{2}\\}$, which clearly $\\frac{1}{2}<1$, therefore Gauss-Seidel method converges."
   ]
  },
  {
   "cell_type": "markdown",
   "metadata": {},
   "source": []
  }
 ],
 "metadata": {
  "interpreter": {
   "hash": "41adb0f2007f8098603df7b860d758d0484ecb6ae8aa94c38f8a1459de4bce41"
  },
  "kernelspec": {
   "display_name": "Python 3.9.10 ('venv': venv)",
   "language": "python",
   "name": "python3"
  },
  "language_info": {
   "codemirror_mode": {
    "name": "ipython",
    "version": 3
   },
   "file_extension": ".py",
   "mimetype": "text/x-python",
   "name": "python",
   "nbconvert_exporter": "python",
   "pygments_lexer": "ipython3",
   "version": "3.9.10"
  },
  "orig_nbformat": 4
 },
 "nbformat": 4,
 "nbformat_minor": 2
}
