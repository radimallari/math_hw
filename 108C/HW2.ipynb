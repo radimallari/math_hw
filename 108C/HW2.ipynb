{
 "cells": [
  {
   "cell_type": "markdown",
   "metadata": {},
   "source": [
    "<header>\n",
    "    <center>    \n",
    "        <h1>Math 108C Homework 2</h1>\n",
    "        <h2>Rad Mallari, 8360828</h2>\n",
    "        <h3>April 12th, 2022</h3>\n",
    "    </center>\n",
    "</header>"
   ]
  },
  {
   "cell_type": "markdown",
   "metadata": {},
   "source": [
    "<b>Exercise 3)</b> Show that $||u+v||_{2}\\leq||u||_{2}+||v||_{2}$, using Cauchy-Schwarz inequality.<br>\n",
    "&emsp;<b>Proof:</b><br>\n",
    "&emsp;&emsp; The Cauchy-Schwarz inequality states that the dot product satisfies:\n",
    "$$|u^{T}v|\\leq||u||_{2}||v||_{2}$$\n",
    "&emsp;&emsp; Using this we get\n",
    "\\begin{equation}\n",
    "\\begin{split}\n",
    "(||u+v||_{2})^{2}&=(u+v)^{T}(u+v)\\\\\n",
    "&=u^{T}y+u^{T}v+v^{T}u+v^{T}v\\\\\n",
    "&=(||u||_{2})^{2}+2u^{T}v+(||v||_{2})^{2})\\\\\n",
    "&\\leq||u||_{2})^{2}+2||u||_{2}||v||_{2}+(||v||_{2})^{2}=(||u||_{2}+||v||_{2})^{2}\n",
    "\\end{split}\n",
    "\\end{equation}"
   ]
  },
  {
   "cell_type": "markdown",
   "metadata": {},
   "source": [
    "<b>Exercise 4)</b><br>\n",
    "&emsp;<b>(a)</b> Consider the vectors in $\\R^{3}$ given by $[1,2,0]^{T}$, $[0,1,1]^{T}$, and $[0,0,3]^{T}$.<br>\n",
    "&emsp;&emsp; Which of these vectors is closest to $u=[1,-2,1]^{T}$ using Euclidean distance?<br>\n",
    "&emsp;&emsp; Explain your answer.<br>\n",
    "&emsp;<b>(b)</b> What is the angle between the vectors $[1,0,3]^{T}$ and $[0,1,1]^{T}$?<br><br>\n",
    "&emsp;<b>Proof:</b><br>\n",
    "&emsp;<b>(a)</b> The Euclidean distance of some vectors $u,v\\in\\R^{n}$ is defined as \n",
    "$$||u-v||_{2}=\\sqrt{(u_{1}-v_{1})^{2}+(u_{2}-v_{2})^{2}+\\dots+(u_{n}-v_{n})^{2}}$$\n",
    "&emsp;&emsp; Therefore, by definition, the closest vector to $u$ is the vector $[0,0,3]^{T}$ since the distance is<br>\n",
    "&emsp;&emsp; $\\sqrt{(1-0)^{2}+(-2-1)^{2}+(1-3)^{2}}=\\sqrt{9}=3$ and the magnitude between the two vectors is the least.<br>\n",
    "&emsp;<b>(b)</b> The angle between the vectors $[1,0,3]^{T}$ and $[0,1,1]^{T}$ can be found using the cosine angle given as:\n",
    "$$\\cos(\\theta(u,v))=\\frac{u^{T}v}{||u||_{2}||v||_{2}}\\implies\\theta(u,v)=\\cos^{-1}\\left(\\frac{u^{T}v}{||u||_{2}||v||_{2}}\\right)$$\n",
    "&emsp;&emsp; Therefore, the angle $\\theta$ is\n",
    "$$\\theta=\\cos^{-1}\\left(\\frac{\\sqrt{6}}{6}\\right)=65.9^{\\circ}$$"
   ]
  },
  {
   "cell_type": "markdown",
   "metadata": {},
   "source": [
    "<b>Exercise 7)</b> Construct a random set consisting of points within a circle centered at $(3,4)$ in the xy-plane with radius 2, call the points in this set Class 1.<br>\n",
    "&emsp;&emsp; Constuct another random set consisting of points inside a circle centered at $(0,0)$ with radius $\\frac{3}{2}$, call the points in this set Class 2.<br>\n",
    "&emsp;&emsp; Write a Python program that implements $kNN$ algorithm to classify points in Class 1 or 2."
   ]
  },
  {
   "cell_type": "code",
   "execution_count": 6,
   "metadata": {},
   "outputs": [],
   "source": [
    "from math import sin, cos, pi, sqrt\n",
    "from random import random\n",
    "\n",
    "\n",
    "def generate_random_point_circle(r, center):\n",
    "    r, theta = 2 * sqrt(random()), random() * 2 * pi\n",
    "    return center[0] + (r * cos(theta)), center[1] + (r * sin(theta))\n",
    "\n",
    "def find_Eucl_dist():\n",
    "    # find euclidean distance between points\n",
    "    pass\n",
    "\n",
    "r_1, center_1 = 2, (3,4)\n",
    "r_2, center_2 = 3/2, (0,0)\n",
    "\n",
    "class_1 = [generate_random_point_circle(r_1, center_1) for i in range(1000)]\n",
    "class_2 = [generate_random_point_circle(r_2, center_2) for i in range(1000)]"
   ]
  },
  {
   "cell_type": "code",
   "execution_count": null,
   "metadata": {},
   "outputs": [],
   "source": []
  }
 ],
 "metadata": {
  "interpreter": {
   "hash": "360fb5c309dee0a09221149e96b3d8ab074198fbfdda0e64e4bab33ee34bf808"
  },
  "kernelspec": {
   "display_name": "Python 3.9.10 ('venv': venv)",
   "language": "python",
   "name": "python3"
  },
  "language_info": {
   "codemirror_mode": {
    "name": "ipython",
    "version": 3
   },
   "file_extension": ".py",
   "mimetype": "text/x-python",
   "name": "python",
   "nbconvert_exporter": "python",
   "pygments_lexer": "ipython3",
   "version": "3.9.10"
  },
  "orig_nbformat": 4
 },
 "nbformat": 4,
 "nbformat_minor": 2
}
