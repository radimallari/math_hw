{
 "cells": [
  {
   "cell_type": "markdown",
   "metadata": {},
   "source": [
    "<header>\n",
    "    <center>    \n",
    "        <h1>Math 108C Homework 2</h1>\n",
    "        <h2>Rad Mallari8360828</h2>\n",
    "        <h3>April 12th, 2022</h3>\n",
    "    </center>\n",
    "</header>"
   ]
  },
  {
   "cell_type": "markdown",
   "metadata": {},
   "source": [
    "<b>Exercise 4)</b><br>\n",
    "&emsp;<b>(a)</b> Consider the vectors in $\\R^{3}$ given by $[1,2,0]^{T}$, $[0,1,1]^{T}$, and $[0,0,3]^{T}$.<br>\n",
    "&emsp;&emsp; Which of these vectors is closest to $u=[1,-2,1]^{T}$ using Euclidean distance?<br>\n",
    "&emsp;&emsp; Explain your answer.<br>\n",
    "&emsp;<b>(b)</b> What is the angle between the vectors $[1,0,3]^{T}$ and $[0,1,1]^{T}$?<br><br>\n",
    "&emsp;<b>Proof:</b><br>\n",
    "&emsp;<b>(a)</b><br>\n",
    "&emsp;<b>(b)</b>"
   ]
  },
  {
   "cell_type": "markdown",
   "metadata": {},
   "source": [
    "<b>Exercise 7)</b> Construct a random set consisting of points within a circle centered at $(3,4)$ in the xy-plane with radius 2, call the points in this set Class 1.<br>\n",
    "&emsp;&emsp; Constuct another random set consisting of points inside a circle centered at $(0,0)$ with radius $\\frac{3}{2}$, call the points in this set Class 2.<br>\n",
    "&emsp;&emsp; Write a Python program that implements $kNN$ algorithm to classify points in Class 1 or 2."
   ]
  }
 ],
 "metadata": {
  "language_info": {
   "name": "python"
  },
  "orig_nbformat": 4
 },
 "nbformat": 4,
 "nbformat_minor": 2
}
