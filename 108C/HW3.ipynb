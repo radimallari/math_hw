{
 "cells": [
  {
   "cell_type": "markdown",
   "metadata": {},
   "source": [
    "<header>\n",
    "    <center>    \n",
    "        <h1>Math 108C Homework 3</h1>\n",
    "        <h2>Rad Mallari, 8360828</h2>\n",
    "        <h2>April 18th, 2022</h2>\n",
    "    </center>\n",
    "</header>"
   ]
  },
  {
   "cell_type": "markdown",
   "metadata": {},
   "source": [
    "<b>1.)</b> Show that the nullspace of the matrix $AB$ contains the null space of $B$."
   ]
  },
  {
   "cell_type": "markdown",
   "metadata": {},
   "source": [
    "&emsp;<b>Proof:</b>"
   ]
  },
  {
   "cell_type": "markdown",
   "metadata": {},
   "source": [
    "<b>2.)</b> How is the null space of $C$ related to the null space of $A$ and $B$, if\n",
    "$$C=\\begin{bmatrix}\n",
    "A\\\\\n",
    "B\\end{bmatrix}$$"
   ]
  },
  {
   "cell_type": "markdown",
   "metadata": {},
   "source": [
    "&emsp;<b>Proof:</b>"
   ]
  },
  {
   "cell_type": "markdown",
   "metadata": {},
   "source": [
    "<b>3.)</b> Show that the Gram matrix $A^{T}A$ has the same null space as $A$."
   ]
  },
  {
   "cell_type": "markdown",
   "metadata": {},
   "source": [
    "&emsp;<b>Proof:</b>"
   ]
  },
  {
   "cell_type": "markdown",
   "metadata": {},
   "source": [
    "<b>11.)</b> A social researcher is interested in the relationship between income and happiness.<br>\n",
    "&emsp;&emsp; They survey $500$ people (see excel file) whose income ranges from $\\$15k$ to $\\$75k$ and<br>\n",
    "&emsp;&emsp; ask them to rank their happiness on a scale from $1$ to $10$. (Note: the income is presented <br>\n",
    "&emsp;&emsp; in the excel sheet divided by $10,000$).<br>\n",
    "&emsp;&emsp; <b>1.</b> Plot the data and determine by inspection if there is a linear relationship between income and happiness.<br>\n",
    "&emsp;&emsp; <b>2.</b> Compute the line that best fit the provided data.<br>\n",
    "&emsp;&emsp; <b>3.</b> Graph the  data with the linear regression line.<br>\n",
    "&emsp;&emsp; <b>4.</b> Use the linear model to estimate the happiness of a person whose income is $\\$60,000$.<br>\n",
    "&emsp;&emsp; <b>5.</b> Is it safe to use this model to predict the happiness of a person whose income is $\\$80,000$?<br>"
   ]
  },
  {
   "cell_type": "markdown",
   "metadata": {},
   "source": [
    "&emsp;<b>Proof:</b><br>\n",
    "&emsp;&emsp; <b>1.</b><br>\n",
    "&emsp;&emsp; <b>2.</b><br>\n",
    "&emsp;&emsp; <b>3.</b><br>\n",
    "&emsp;&emsp; <b>4.</b><br>\n",
    "&emsp;&emsp; <b>5.</b><br>"
   ]
  },
  {
   "cell_type": "markdown",
   "metadata": {},
   "source": []
  }
 ],
 "metadata": {
  "language_info": {
   "name": "python"
  },
  "orig_nbformat": 4
 },
 "nbformat": 4,
 "nbformat_minor": 2
}
