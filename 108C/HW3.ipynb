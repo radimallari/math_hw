{
 "cells": [
  {
   "cell_type": "markdown",
   "metadata": {},
   "source": [
    "<header>\n",
    "    <center>    \n",
    "        <h1>Math 108C Homework 3</h1>\n",
    "        <h2>Rad Mallari, 8360828</h2>\n",
    "        <h2>April 18th, 2022</h2>\n",
    "    </center>\n",
    "</header>"
   ]
  },
  {
   "cell_type": "markdown",
   "metadata": {},
   "source": [
    "<b>1.)</b> Show that the nullspace of the matrix $AB$ contains the null space of $B$."
   ]
  },
  {
   "cell_type": "markdown",
   "metadata": {},
   "source": [
    "&emsp;<b>Proof:</b><br>\n",
    "&emsp;&emsp; By definition $\\text{null }(AB)=\\{x\\in\\R^{n}:AB(x)=0\\}$.<br>\n",
    "&emsp;&emsp; Now suppose $x\\in\\text{null }(B)$, then this implies that $Bx=0$.<br>\n",
    "&emsp;&emsp; Applying $A$ yields $A(Bx)=0\\implies (AB)x=0$.<br>\n",
    "&emsp;&emsp; This result is exactly the definition of $\\text{null }(AB)$ so the null space of $AB$ contains null space of $B$.\n"
   ]
  },
  {
   "cell_type": "markdown",
   "metadata": {},
   "source": [
    "<b>3.)</b> Show that the Gram matrix $A^{T}A$ has the same null space as $A$."
   ]
  },
  {
   "cell_type": "markdown",
   "metadata": {},
   "source": [
    "&emsp;<b>Proof:</b><br>\n",
    "&emsp;&emsp; Taking an arbitrary $x\\in\\R^{n}$, where $x\\in\\text{null }(A^{T}A)\\implies A^{T}Ax=0$, then $x^{T}A^{T}Ax=0$.<br>\n",
    "&emsp;&emsp; Multiplying $x^{T}$ yields $0=x^{T}AA^{T}x=(A^{T}x^{T})(Ax)\\implies Ax=0$. Therefore $x\\in\\text{null }(A)$."
   ]
  },
  {
   "cell_type": "markdown",
   "metadata": {},
   "source": [
    "<b>8.)</b> Let\n",
    "$$A=\\begin{bmatrix}1&2&0&1\\\\2&4&0&1\\end{bmatrix}$$\n",
    "&emsp;&emsp; Find a CR decomposition of $A$ and use it to provide a basis for $col(A)$ and $col(A^{T})$.<br>\n",
    "&emsp;&emsp; What are the dimensions of those two spaces? Is the factorization that you found the only possibility? Explain."
   ]
  },
  {
   "cell_type": "markdown",
   "metadata": {},
   "source": [
    "&emsp;<b>Proof:</b><br>\n",
    "&emsp;&emsp; A CR decomposition of $A$ is given by:\n",
    "$$A=\\begin{bmatrix}\n",
    "1&1\\\\\n",
    "2&1\\end{bmatrix}\\begin{bmatrix}\n",
    "1&2&0&0\\\\\n",
    "0&0&0&1\\end{bmatrix}\n",
    "$$\n",
    "&emsp;&emsp; This factorization provides us with a basis for column space of $A$ which is:\n",
    "$$\\begin{bmatrix}\n",
    "1&1\\\\\n",
    "2&1\\end{bmatrix}$$\n",
    "&emsp;&emsp; This has dimension of $2\\times2$. Meanwhile, a basis for the column space of $A^{T}$ is give to us as:\n",
    "$$\\begin{bmatrix}\n",
    "1&2&0&0\\\\\n",
    "0&0&0&1\\end{bmatrix}$$\n",
    "&emsp;&emsp; Which has a dimension of $2\\times4$. Since the row reduction, which is essential to the process of CR factorization, is unique.<br>\n",
    "&emsp;&emsp; The CR factorization is the only possibility."
   ]
  },
  {
   "cell_type": "markdown",
   "metadata": {},
   "source": [
    "<b>11.)</b> A social researcher is interested in the relationship between income and happiness.<br>\n",
    "&emsp;&emsp; They survey $500$ people (see excel file) whose income ranges from $\\$15k$ to $\\$75k$ and<br>\n",
    "&emsp;&emsp; ask them to rank their happiness on a scale from $1$ to $10$. (Note: the income is presented <br>\n",
    "&emsp;&emsp; in the excel sheet divided by $10,000$).<br>\n",
    "&emsp;&emsp; <b>1.</b> Plot the data and determine by inspection if there is a linear relationship between income and happiness.<br>\n",
    "&emsp;&emsp; <b>2.</b> Compute the line that best fit the provided data.<br>\n",
    "&emsp;&emsp; <b>3.</b> Graph the  data with the linear regression line.<br>\n",
    "&emsp;&emsp; <b>4.</b> Use the linear model to estimate the happiness of a person whose income is $\\$60,000$.<br>\n",
    "&emsp;&emsp; <b>5.</b> Is it safe to use this model to predict the happiness of a person whose income is $\\$80,000$?<br>"
   ]
  },
  {
   "cell_type": "markdown",
   "metadata": {},
   "source": [
    "&emsp;<b>Proof:</b><br>\n",
    "&emsp;&emsp; <b>1.</b><br>"
   ]
  },
  {
   "cell_type": "code",
   "execution_count": 4,
   "metadata": {},
   "outputs": [
    {
     "data": {
      "text/plain": [
       "<matplotlib.collections.PathCollection at 0x129347cf388>"
      ]
     },
     "execution_count": 4,
     "metadata": {},
     "output_type": "execute_result"
    },
    {
     "data": {
      "image/png": "[encoded data removed]",
      "text/plain": [
       "<Figure size 432x288 with 1 Axes>"
      ]
     },
     "metadata": {
      "needs_background": "light"
     },
     "output_type": "display_data"
    }
   ],
   "source": [
    "import csv\n",
    "import matplotlib.pyplot as plt\n",
    "from pathlib import Path\n",
    "from pprint import pprint\n",
    "\n",
    "\n",
    "data_file_path = Path(r\"./HW3 Income Data.csv\").resolve()\n",
    "\n",
    "with data_file_path.open(\"r\") as f:\n",
    "    csv_data = csv.reader(f)\n",
    "    header = next(csv_data)\n",
    "    result = [row for row in csv_data]\n",
    "income = [row[1] for row in result]\n",
    "happiness = [row[2] for row in result]\n",
    "\n",
    "plt.scatter(income,happiness)\n",
    "\n",
    "# ax.set_xlabel(\"Happiness (1 to 10)\")\n",
    "# ax.set_ylabel(\"Income (in $10,000)\")"
   ]
  },
  {
   "cell_type": "markdown",
   "metadata": {},
   "source": [
    "&emsp;&emsp; <b>2.</b> did not have time to finish <br>\n",
    "&emsp;&emsp; <b>3.</b> did not have time to finish <br>\n",
    "&emsp;&emsp; <b>4.</b> did not have time to finish <br>\n",
    "&emsp;&emsp; <b>5.</b> did not have time to finish <br>"
   ]
  },
  {
   "cell_type": "markdown",
   "metadata": {},
   "source": []
  }
 ],
 "metadata": {
  "interpreter": {
   "hash": "e0c9729841b44e02f064591a98ed43b16f810b6a54f511d019e5d341934c3798"
  },
  "kernelspec": {
   "display_name": "Python 3.7.4 64-bit",
   "language": "python",
   "name": "python3"
  },
  "language_info": {
   "codemirror_mode": {
    "name": "ipython",
    "version": 3
   },
   "file_extension": ".py",
   "mimetype": "text/x-python",
   "name": "python",
   "nbconvert_exporter": "python",
   "pygments_lexer": "ipython3",
   "version": "3.7.4"
  },
  "orig_nbformat": 4
 },
 "nbformat": 4,
 "nbformat_minor": 2
}
