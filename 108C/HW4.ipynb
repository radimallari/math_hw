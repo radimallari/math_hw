{
 "cells": [
  {
   "cell_type": "markdown",
   "metadata": {},
   "source": [
    "<header>\n",
    "    <center>    \n",
    "        <h1>Math 108C Homework 4</h1>\n",
    "        <h2>Rad Mallari, 8360828</h2>\n",
    "        <h2>May 3rd, 2022</h2>\n",
    "    </center>\n",
    "</header>"
   ]
  },
  {
   "cell_type": "markdown",
   "metadata": {},
   "source": [
    "<b>1.)</b> Show that a projection matrix $P$ is orthogonal if $P=P^{T}$"
   ]
  },
  {
   "cell_type": "markdown",
   "metadata": {},
   "source": [
    "&emsp;<b>Proof:</b><br> \n",
    "&emsp;&emsp; Taking $x\\in\\R^{n}$, we can write it as\n",
    "$$x=Px+(I_{n}-P)x$$\n",
    "&emsp;&emsp; It is clear that $Px\\in\\text{col}(P)$, and to show that $(I-P)x\\in\\text{col}(P)^{\\perp}=\\text{null}(P^{T})$:\n",
    "$$P^{T}(I_{n}-P)x=P(I_{n}-P)x=(P-P^{2})x=P(-Px)=0$$"
   ]
  },
  {
   "cell_type": "markdown",
   "metadata": {},
   "source": [
    "<b>4.)</b> Show that the dot product of orthogonal matrices is orthogonal.<br>\n",
    "&emsp; Is it true that the sum of orthogonal matrices is orthogonal?"
   ]
  },
  {
   "cell_type": "markdown",
   "metadata": {},
   "source": [
    "&emsp;<b>Proof:</b><br>\n",
    "&emsp;&emsp; Let $U_{1},U_{2},\\dots,U_{k}$ be orthogonal matrices of $n\\times n$.<br>\n",
    "&emsp;&emsp; Then taking the dot product of $U_{1},U_{2},\\dots,U_{k}$ is $n\\times n$ as well and\n",
    "$$(U_{1}\\cdot U_{2}\\cdot...\\cdot U_{k})^{T}(U_{1}\\cdot U_{2}\\cdot...\\cdot U_{k})=U_{1}^{T}\\cdot U_{2}^{T}\\cdot...\\cdot U_{k}^{T}\\cdot U_{1}\\cdot U_{2}\\cdot...\\cdot U_{k}=I$$\n",
    "&emsp;&emsp; So the dot product of orthogonal matrices is orthogonal. No, the sum of orthogonal matrices may not always be orthogonal."
   ]
  },
  {
   "cell_type": "markdown",
   "metadata": {},
   "source": [
    "<b>8.)</b> What values can the determinant of an orthogonal matrix have? Prove."
   ]
  },
  {
   "cell_type": "markdown",
   "metadata": {},
   "source": [
    "&emsp;<b>Proof:</b><br>\n",
    "&emsp;&emsp; Letting $U$ be an orthogonal matrix, we know that\n",
    "$$UU^{T}=I_{n}$$\n",
    "&emsp;&emsp; Therefore, we know that $\\text{det}(UU^{T})=\\text{det}(U)\\text{det}(U^{T})=\\text{det}(U^{1})=1$.<br>\n",
    "&emsp;&emsp; From here it's easy to conclude then that the values can be either $1$ or $-1$."
   ]
  },
  {
   "cell_type": "markdown",
   "metadata": {},
   "source": [
    "<b>15.)</b> Show that the product of Householder matrices is an orthogonal matrix"
   ]
  },
  {
   "cell_type": "markdown",
   "metadata": {},
   "source": [
    "&emsp;<b>Proof:</b><br>\n",
    "&emsp;&emsp; We recall that if $u^{T}u=1$ where $u$ is a unit vector.<br>\n",
    "&emsp;&emsp; Then the Householder matrix is defined as $H=I_{n}-2u\\cdot u^{T}$\n",
    "&emsp;&emsp; Further, we see that\n",
    "$$H^{T}H=H^{2}=I-4u\\cdot u^{T}+4u\\cdot u^{T}\\cdot u\\cdot u^{T}=I$$\n",
    "&emsp;&emsp; Therefore it is orthogonal."
   ]
  },
  {
   "cell_type": "markdown",
   "metadata": {},
   "source": []
  }
 ],
 "metadata": {
  "language_info": {
   "name": "python"
  },
  "orig_nbformat": 4
 },
 "nbformat": 4,
 "nbformat_minor": 2
}
