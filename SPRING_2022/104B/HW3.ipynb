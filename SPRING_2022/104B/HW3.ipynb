{
 "cells": [
  {
   "cell_type": "markdown",
   "metadata": {},
   "source": [
    "<header>\n",
    "    <center>    \n",
    "        <h1>Math 104B Homework 3</h1>\n",
    "        <h2>Rad Mallari, 8360828</h2>\n",
    "        <h2>April 18th, 2022</h2>\n",
    "    </center>\n",
    "</header>"
   ]
  },
  {
   "cell_type": "markdown",
   "metadata": {},
   "source": [
    "<b>1.)</b> Derive directly the Simpson rule on $[-1,1]$ by approximating the integrand $f$ with the<br>\n",
    "&emsp;&emsp; Hermite-interpolation polynomial, which interpolates $f(-1)$, $f(0)$, $f'(0)$, and $f(1)$.<br>\n",
    "<br>"
   ]
  },
  {
   "cell_type": "markdown",
   "metadata": {},
   "source": [
    "&emsp;<b>Proof:</b><br>\n",
    "&emsp;&emsp; Simpson's rule is given by\n",
    "$$\\int_{a}^{b}f(x)dx=\\frac{1}{6}(b-a)\\left[f(a)+4f\\left(\\frac{a+b}{2}\\right)+f(b)\\right]$$\n",
    "&emsp;&emsp; Meanwhile, Hermite Interpolation for polynomial with degree 3 (since we have three givens) is\n",
    "$$f(x)\\approx p_{3}(x)=f(x_{0})+f[x_{0},x_{1}](x-x_{0})(x-x_{1})+[x_{0},x_{1},x_{2}](x-x_{0})(x-x_{1})(x-x_{2})+f[x_{0},x_{1},x_{2},x_{3}](x-x_{0})(x-x_{1})(x-x_{2})(x-x_{3})$$\n",
    "&emsp;&emsp; where $f(x_{0})=f(-1)$, $f[x_{0},x_{1}]=\\frac{f(0)-f(-1)}{0+1}$, $f[x_{0},x_{1},x_{2}]=\\frac{f'(0)-(f(0)-f(-1))}{0-(-1)}$, and $f[x_{0},x_{1},x_{2},x_{3}]=\\frac{-f'(0)-f(0)+f(-1)-(f'(0)-f(0)+f(1))}{1-(-1)}$<br>\n",
    "&emsp;&emsp; Therefore, our Hermite polynomial interpolating the points $f(-1),f(0),f'(0),f(1)$ is:\n",
    "$$p_{3}(x)=x^{2}(x+1)+(-2f'(0)+f(1)-f(-1))x^{2}(x^{2}-1)$$\n",
    "&emsp;&emsp; Then the integral of $p_{3}(x)$ from $[-1,1]$ would approximately be equal to "
   ]
  },
  {
   "cell_type": "markdown",
   "metadata": {},
   "source": [
    "<b>2.)</b> Let\n",
    "$$f(x)=\\begin{cases}\n",
    "1+x,&-1\\leq x\\leq 0\\\\\n",
    "1-x,&0\\leq x\\leq 1\n",
    "\\end{cases}\n",
    "$$\n",
    "&emsp; Find an approximation of the integral of $f$ over $[-1,1]$ by using<br>\n",
    "&emsp;&emsp;<b>(a)</b> the simple Trapezoidal rule over $[-1,1]$.<br>\n",
    "&emsp;&emsp;<b>(b)</b> the simple Simpson rule over $[-1,1]$.<br>\n",
    "&emsp;&emsp;<b>(c)</b> the simple Trapezoidal rule over $[-1,0]$ and then the Trapezoidal rule over $[0,1]$.<br>\n",
    "&emsp; Compute the error in each case and explain the differences in the accuracy of the results."
   ]
  },
  {
   "cell_type": "markdown",
   "metadata": {},
   "source": [
    "&emsp;<b>Proof:</b><br>\n",
    "&emsp;&emsp;<b>(a)</b> The simple Trapezoidal rule is defined as:\n",
    "$$\\int_{a}^{b}f(x)dx\\approx\\frac{(b-a)}{2}[f(a)+f(b)]$$\n",
    "&emsp;&emsp;&emsp; Therefore, the approximation of the integral of $f$ over $[-1,1]$ is:\n",
    "\\begin{equation}\n",
    "\\begin{split}\n",
    "\\int_{-1}^{1}f(x)dx&\\approx\\frac{(1-(-1))}{2}[f(-1)+f(1)]\\\\\n",
    "&=0\n",
    "\\end{split}\n",
    "\\end{equation}\n",
    "&emsp;&emsp;&emsp; The integral of $f(x)$ is $1$, therefore the error is $|1-0|=1$. This error may be due to the Trapezoidal rule not accounting that we have a piecewise function.\n",
    "<br>\n",
    "&emsp;&emsp;<b>(b)</b> By the definition of Simpson's rule in <b>(1)</b>, the integral of $f$ is given by:\n",
    "\\begin{equation}\n",
    "\\begin{split}\n",
    "\\int_{-1}^{1}f(x)dx&\\approx\\frac{(1-(-1)}{6}(1-(-1))\\left[f(-1)+4f\\left(\\frac{-1+1}{2}\\right)+f(1)\\right]\\\\\n",
    "&=\\frac{1}{3}\\left[f(-1)+4f(0)+f(1)\\right]\\\\\n",
    "&=\\frac{1}{3}\\left[0+4+0\\right]=\\frac{4}{3}\n",
    "\\end{split}\n",
    "\\end{equation}\n",
    "&emsp;&emsp;&emsp; The error in this case is $|1-\\frac{4}{3}|=\\frac{1}{3}$.\n",
    "<br>\n",
    "&emsp;&emsp;<b>(c)</b> Using the same formula as <b>(a)</b> we have:\n",
    "\\begin{equation}\n",
    "\\begin{split}\n",
    "\\int_{-1}^{1}f(x)dx&=\\int_{-1}^{0}f(x)dx+\\int_{0}^{1}f(x)dx\\\\\n",
    "&\\approx\\frac{(0-(-1))}{2}\\left[f(0)+f(-1)\\right]+\\frac{(1-0)}{2}\\left[f(0)+f(1)\\right]\\\\\n",
    "&=\\frac{1}{2}[1+0]+\\frac{1}{2}[1+(1-1)]\\\\\n",
    "&=\\frac{1}{2}+\\frac{1}{2}=1\n",
    "\\end{split}\n",
    "\\end{equation}\n",
    "&emsp;&emsp;&emsp; Here the error is $|1-1|=0$\n"
   ]
  },
  {
   "cell_type": "markdown",
   "metadata": {},
   "source": [
    "<b>3.)&emsp;(a)</b> Construct a quadrature rule of the form\n",
    "$$\\int_{-1}^{1}f(x)dx\\approx A_{0}f(-1)+A_{1}f(0)+A_{2}f(1)$$\n",
    "&emsp;&emsp;&emsp;which is exact for polynomials of degree $\\leq 2$.<br>\n",
    "&emsp;&emsp;<b>(b)</b> Derive the 3-point (Legendre) Gaussian quadrature to approximate $\\int_{-1}^{1}f(x)dx$<br>\n",
    "&emsp;&emsp;&emsp; (i.e you need to obtain the nodes $x_{0},x_{1},x_{2}$ and the corresponding weights $A_{0},A_{1},A_{2}$).<br>\n",
    "&emsp;&emsp;<b>(c)</b> Verify its degree of precision.<br>\n",
    "&emsp;&emsp;<b>(d)</b> Compare the accuracy of this 3-point Gaussian quadrature with that of the simple Simpson<br>\n",
    "&emsp;&emsp;&emsp; rule for approximating $\\int_{-1}^{1}e^{x}dx$.<br>\n",
    "&emsp;&emsp;<b>(e)</b> Show that the 3-point Gaussian quadrature can be used for approximating $\\int_{a}^{b}f(x)dx$<br>\n",
    "&emsp;&emsp;&emsp; by doing a simple change of variables and apply this to approximate\n",
    "$$\\int_{0}^{4}\\frac{\\sin x}{x}dx$$"
   ]
  },
  {
   "cell_type": "markdown",
   "metadata": {},
   "source": [
    "&emsp;<b>Proof:</b><br>\n",
    "&emsp;&emsp;<b>(a)</b> Using the basis $(1,x,x^{2})$, we have\n",
    "\\begin{equation}\n",
    "\\begin{split}\n",
    "\\text{for }f(x)=1\\implies \\int_{-1}^{1}(1)dx&=A_{0}f(-1)+A_{1}f(0)+A_{2}f(1)\\\\\n",
    "(1-(-1))&=A_{0}+A_{1}+A_{2}\\\\\n",
    "2&=A_{0}+A_{1}+A_{2}\\\\\n",
    "\\text{for }f(x)=x\\implies \\int_{-1}^{1}xdx&=A_{0}f(-1)+A_{1}f(0)+A_{2}f(1)\\\\\n",
    "\\frac{x^{2}}{2}\\bigg\\rvert_{-1}^{1}&=-A_{0}+0+A_{2}\\\\\n",
    "0&=-A_{0}+A_{2}\\\\\n",
    "A_{0}&=A_{2}\\\\\n",
    "\\text{for }f(x)=x^{2}\\implies \\int_{-1}^{1}x^{2}dx&=A_{0}f(-1)+A_{1}f(0)+A_{2}f(1)\\\\\n",
    "\\frac{x^{3}}{3}\\bigg\\rvert_{-1}^{1}&=A_{0}+A_{2}\\\\\n",
    "\\frac{2}{3}&=A_{0}+A_{2}\n",
    "\\end{split}\n",
    "\\end{equation}\n",
    "&emsp;&emsp; Solving for the system of equation above yields our quadrature rule:\n",
    "$$\\int_{-1}^{1}f(x)dx=\\frac{1}{3}f(-1)+\\frac{2}{3}f(0)+\\frac{1}{3}f(1)=\\frac{2}{3}\\left(f(-1)+2f(0)+2f(1)\\right)$$\n",
    "\n",
    "&emsp;&emsp;<b>(b)</b> Now finding $A_{0},A_{1},A_{2}$ and $x_{0},x_{1},x_{2}\\in[-1,1]$ that satisfies the equation above using the basis $(1,x,x^{2},x^{3},x^{4},x^{5})$.<br>\n",
    "&emsp;&emsp;&emsp; By symmetry, $x_{1}=0\\implies x_{2}=-x_{0}$\n",
    "\\begin{equation}\n",
    "\\begin{split}\n",
    "\\text{for }f(x)=1\\implies \\int_{-1}^{1}(1)dx&=A_{0}f(x_{0})+A_{x_{1}}f(x_{1})+A_{2}f(x_{2})\\\\\n",
    "2&=A_{0}+A_{1}+A_{2}\\\\\n",
    "\\text{for }f(x)=x\\implies \\int_{-1}^{1}xdx&=A_{0}f(x_{0})+A_{x_{1}}f(x_{1})+A_{2}f(x_{2})\\\\\n",
    "0&=A_{0}x_{0}+A_{1}x_{1}+A_{2}x_{2}\\\\\n",
    "0&=A_{0}x_{0}+A_{1}\\cdot 0-A_{2}x_{0}\\\\\n",
    "A_{0}&=A_{2}\n",
    "\\end{split}\n",
    "\\end{equation}\n",
    "\n",
    "<br>\n",
    "&emsp;&emsp;<b>(c)</b><br>\n",
    "&emsp;&emsp;<b>(d)</b><br>\n",
    "&emsp;&emsp;<b>(e)</b><br>"
   ]
  },
  {
   "cell_type": "markdown",
   "metadata": {},
   "source": []
  }
 ],
 "metadata": {
  "language_info": {
   "name": "python"
  },
  "orig_nbformat": 4
 },
 "nbformat": 4,
 "nbformat_minor": 2
}
