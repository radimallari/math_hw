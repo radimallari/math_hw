{
 "cells": [
  {
   "cell_type": "markdown",
   "metadata": {},
   "source": [
    "<header>\n",
    "    <center>    \n",
    "        <h1>Math 104B Homework 5</h1>\n",
    "        <h2>Rad Mallari, 8360828</h2>\n",
    "        <h2>May 16th, 2022</h2>\n",
    "    </center>\n",
    "</header>"
   ]
  },
  {
   "cell_type": "markdown",
   "metadata": {},
   "source": [
    "<b>1.)</b> <b>(a)</b> Implement Gaussian Elimination with partial pivoting to solve a linear system $Ax=b$,<br>\n",
    "&emsp;&emsp; given as ouput the coefficients of a nonsingular $n\\times n$ matrix $A$ and an $n$-vector $b$.<br>\n",
    "&emsp;&emsp; Your code should produce the solution $x$ or an error message (if $A$ is nonsingular) and the information needed for $LU$ factorization."
   ]
  },
  {
   "cell_type": "code",
   "execution_count": null,
   "metadata": {},
   "outputs": [],
   "source": [
    "def gaussian_elim():\n",
    "    \"\"\"Solves linear system using Gaussian Elimantion\n",
    "    \n",
    "    Takes matrix A and solution matrix b,\n",
    "    returns matrix x\"\"\"\n",
    "    pass\n"
   ]
  },
  {
   "cell_type": "markdown",
   "metadata": {},
   "source": [
    "&emsp;&emsp;<b>(b)</b> Let\n",
    "$$A=\\begin{bmatrix}\n",
    "5&1&0&2&1\\\\\n",
    "0&4&0&1&2\\\\\n",
    "1&1&4&1&1\\\\\n",
    "0&1&2&6&0\\\\\n",
    "0&0&1&2&4\\end{bmatrix},\\quad b=\\begin{bmatrix}\n",
    "1\\\\\n",
    "2\\\\\n",
    "3\\\\\n",
    "4\\\\\n",
    "5\\end{bmatrix}$$\n",
    "&emsp;&emsp; Use your Gaussian Elimination code to solve $Ax=b$."
   ]
  },
  {
   "cell_type": "code",
   "execution_count": null,
   "metadata": {},
   "outputs": [],
   "source": [
    "matrix_A = [[]]"
   ]
  },
  {
   "cell_type": "markdown",
   "metadata": {},
   "source": [
    "&emsp;&emsp;<b>(c)</b> Test your Gaussian Elimination code for\n",
    "$$A=\\begin{bmatrix}\n",
    "5&1&0&2\\\\\n",
    "0&4&0&8\\\\\n",
    "1&1&4&2\\\\\n",
    "0&1&2&2\\end{bmatrix},\\quad b=\\begin{bmatrix}\n",
    "1\\\\\n",
    "2\\\\\n",
    "3\\\\\n",
    "4\\end{bmatrix}$$"
   ]
  },
  {
   "cell_type": "markdown",
   "metadata": {},
   "source": [
    "matrix_A [[]]"
   ]
  },
  {
   "cell_type": "markdown",
   "metadata": {},
   "source": [
    "<b>2.)</b> <b>(a)</b> Let $A$ be a $n\\times n$ upper or lower triangular matrix.<br>\n",
    "&emsp;&emsp; Prove that the determinant of $A$ is equal to the product of it's diagonal entries."
   ]
  },
  {
   "cell_type": "markdown",
   "metadata": {},
   "source": [
    "&emsp;&emsp;<b>Proof:</b>"
   ]
  },
  {
   "cell_type": "markdown",
   "metadata": {},
   "source": [
    "&emsp;&emsp;<b>(b)</b> Prove that the product of the pivots in the Guassian Elimination for $Ax=b$<br>\n",
    "&emsp;&emsp; is equal to the determinant of $A$ up to a sign."
   ]
  },
  {
   "cell_type": "markdown",
   "metadata": {},
   "source": [
    "&emsp;&emsp;<b>Proof:</b>"
   ]
  },
  {
   "cell_type": "markdown",
   "metadata": {},
   "source": [
    "&emsp;&emsp;<b>(c)</b> Prove that the product of two $n\\times n$ lower (upper) triangular matrices is a<br>\n",
    "&emsp;&emsp; lower (upper) triangular matrix."
   ]
  },
  {
   "cell_type": "markdown",
   "metadata": {},
   "source": [
    "&emsp;&emsp;<b>Proof:</b>"
   ]
  },
  {
   "cell_type": "markdown",
   "metadata": {},
   "source": [
    "&emsp;&emsp;<b>(d)</b> Let $L_{i}$ be the unit upper triangular matrix that produces the $i$-th eliminiation step<br>\n",
    "&emsp;&emsp; in the Gaussian Elimination algorithm, i.e.\n",
    "$$L_{i}=\\begin{bmatrix}\n",
    "1 &      &     &     & & &\\\\\n",
    "  &\\ddots&\\dots&\\dots& & &\\\\\n",
    "  &      &  1  &     & & &\\\\\n",
    "  &      &-m_{i+1,i}\\\\\n",
    "  &      &-m_{i+2,i}&\\ddots\\\\\n",
    "  &      &\\vdots&&&\\ddots\\\\\n",
    "  &      &-m_{n,i}&&&&1\n",
    "\\end{bmatrix}$$\n",
    "&emsp;&emsp; Prove that\n",
    "$$L_{i}^{-1}=\\begin{bmatrix}\n",
    "1 &      &     &     & & &\\\\\n",
    "  &\\ddots&\\dots&\\dots& & &\\\\\n",
    "  &      &  1  &     & & &\\\\\n",
    "  &      &m_{i+1,i}\\\\\n",
    "  &      &m_{i+2,i}&\\ddots\\\\\n",
    "  &      &\\vdots&&&\\ddots\\\\\n",
    "  &      &m_{n,i}&&&&1\n",
    "\\end{bmatrix}$$"
   ]
  },
  {
   "cell_type": "markdown",
   "metadata": {},
   "source": [
    "&emsp;&emsp;<b>Proof:</b>"
   ]
  },
  {
   "cell_type": "markdown",
   "metadata": {},
   "source": [
    "<b>3.)</b> Find an $LU$ factorization of the matrix\n",
    "$$A=\\begin{bmatrix}\n",
    "5&1&0\\\\\n",
    "0&4&0\\\\\n",
    "1&1&4\\end{bmatrix}$$"
   ]
  },
  {
   "cell_type": "markdown",
   "metadata": {},
   "source": [
    "&emsp;&emsp;<b>Proof:</b>"
   ]
  },
  {
   "cell_type": "markdown",
   "metadata": {},
   "source": [
    "<b>4.)</b> Find the Choleski factorization of $A=LL^{T}$\n",
    "$$A=\\begin{bmatrix}\n",
    "3&-1&0\\\\\n",
    "-1&3&-1\\\\\n",
    "0&-1&3\\end{bmatrix}$$"
   ]
  },
  {
   "cell_type": "markdown",
   "metadata": {},
   "source": [
    "&emsp;&emsp;<b>Proof:</b>"
   ]
  },
  {
   "cell_type": "markdown",
   "metadata": {},
   "source": []
  }
 ],
 "metadata": {
  "language_info": {
   "name": "python"
  },
  "orig_nbformat": 4
 },
 "nbformat": 4,
 "nbformat_minor": 2
}
