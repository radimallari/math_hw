{
 "cells": [
  {
   "cell_type": "code",
   "execution_count": 1,
   "id": "8238b5f1-ea3c-4cce-b74c-53bc98072efb",
   "metadata": {},
   "outputs": [],
   "source": [
    "import math\n",
    "\n",
    "\n",
    "# Write a computer code to implement the Composite Trapezoidal Rule\n",
    "def comp_trapezoidal(f, a, b, h):\n",
    "    n = (b - a) / h\n",
    "    area_sum = h * f(a) / 2\n",
    "    for i in range(1, int(n)):\n",
    "        area_sum += 2 * h * f(a + i * h) / 2\n",
    "    area_sum += h * f(b) / 2\n",
    "    return area_sum"
   ]
  },
  {
   "cell_type": "code",
   "execution_count": 2,
   "id": "0a12ec82-3bb7-4cec-bcf9-c3dd90af4680",
   "metadata": {},
   "outputs": [
    {
     "name": "stdout",
     "output_type": "stream",
     "text": [
      "-0.0016016420950134558 -0.0004010274291322835 -0.00010029564719793438\n",
      "yes since as h -> 0, we are getting CTR values -> 0\n"
     ]
    }
   ],
   "source": [
    "# Test your code with f(x) = 1 / (1+x)**2 in [0,2] by computing error\n",
    "# for h = 2/20, 2/40, 2/80 (I(f)= 0.66667...)\n",
    "# verify that Th(f) has a convergence trend at the expected quadratic rate.\n",
    "h_1 = comp_trapezoidal(lambda x: 1 / (1 + x) ** 2, 0, 2, 2/20)\n",
    "h_2 = comp_trapezoidal(lambda x: 1 / (1 + x) ** 2, 0, 2, 2/40)\n",
    "h_3 = comp_trapezoidal(lambda x: 1 / (1 + x) ** 2, 0, 2, 2/80)\n",
    "\n",
    "i_f = 0.6666666667\n",
    "print(i_f - h_1, i_f - h_2, i_f - h_3)\n",
    "print(\"yes since as h -> 0, we are getting CTR values -> 0\")"
   ]
  },
  {
   "cell_type": "code",
   "execution_count": 3,
   "id": "9ecbf4b4-8b4c-4745-ac09-2cca931d6a44",
   "metadata": {},
   "outputs": [
    {
     "name": "stdout",
     "output_type": "stream",
     "text": [
      "0.6635811968772283 0.6655589362789418 0.6662708113785066 0.6665256572968262\n"
     ]
    }
   ],
   "source": [
    "# Let f(x) = x ** 1/2 in [0,1]. Compute T_1/N for N = 16, 32, 64, 128\n",
    "# Do you see a second order convergence to the exact value of the integral? Explain.\n",
    "t_1 = comp_trapezoidal(lambda x: math.sqrt(x), 0, 1, 1/16)\n",
    "t_2 = comp_trapezoidal(lambda x: math.sqrt(x), 0, 1, 1/32)\n",
    "t_3 = comp_trapezoidal(lambda x: math.sqrt(x), 0, 1, 1/64)\n",
    "t_4 = comp_trapezoidal(lambda x: math.sqrt(x), 0, 1, 1/128)\n",
    "print(t_1, t_2, t_3, t_4)\n"
   ]
  },
  {
   "cell_type": "code",
   "execution_count": 4,
   "id": "fdd1376a-ea55-487d-8519-0a432f253b24",
   "metadata": {},
   "outputs": [
    {
     "name": "stdout",
     "output_type": "stream",
     "text": [
      "3.992247740513767\n"
     ]
    }
   ],
   "source": [
    "# Using your code, find a value of h for which q(h) is approximately equal to 4\n",
    "h_q = 1.52\n",
    "sqrt_pi = math.sqrt(math.pi)\n",
    "q_num_1 = comp_trapezoidal(lambda x: math.cos(x ** 2), 0, sqrt_pi, h_q / 2)\n",
    "q_num_2 = comp_trapezoidal(lambda x: math.cos(x ** 2), 0, sqrt_pi, h_q)\n",
    "q_denom_1 = comp_trapezoidal(lambda x: math.cos(x ** 2), 0, sqrt_pi, h_q / 4)\n",
    "q_denom_2 = comp_trapezoidal(lambda x: math.cos(x ** 2), 0, sqrt_pi, h_q / 2)\n",
    "print((q_num_1 - q_num_2) / (q_denom_1 - q_denom_2))"
   ]
  },
  {
   "cell_type": "code",
   "execution_count": 5,
   "id": "9bb2ce5e-3ffe-4482-af18-7f7b6ff7a5e0",
   "metadata": {},
   "outputs": [
    {
     "name": "stdout",
     "output_type": "stream",
     "text": [
      "I do not understand how to get I(cos(x**2)) since we said that we cannot calculate the definite integral\n"
     ]
    }
   ],
   "source": [
    "# Get an approximation of the error, I(cos(x**2)) − Th(cos(x**2)) for that particular value of h.\n",
    "print(\"I do not understand how to get I(cos(x**2)) since we said that we cannot calculate the definite integral\")"
   ]
  },
  {
   "cell_type": "code",
   "execution_count": 6,
   "id": "69b56bd5-a109-4cff-84ea-ab3e2c2fd015",
   "metadata": {},
   "outputs": [
    {
     "name": "stdout",
     "output_type": "stream",
     "text": [
      "0.8489458370507594\n"
     ]
    }
   ],
   "source": [
    "# Use this error approximation to obtain the extrapolated, improved, approximation\n",
    "first_term = comp_trapezoidal(lambda x: math.cos(x**2), 0, sqrt_pi, h_q)\n",
    "second_term = 4/3 * comp_trapezoidal(lambda x: math.cos(x**2), 0, sqrt_pi, h_q/2)\n",
    "third_term = - first_term\n",
    "s_h = first_term + second_term + third_term\n",
    "print(s_h)"
   ]
  },
  {
   "cell_type": "code",
   "execution_count": 7,
   "id": "4584c529-5965-4a34-94e3-fc0a18dda5e8",
   "metadata": {},
   "outputs": [
    {
     "name": "stdout",
     "output_type": "stream",
     "text": [
      "\n"
     ]
    }
   ],
   "source": [
    "# Explain why S_h(cos(x**2)) is more accurate and converges faster to I(cos(x**2)) than Th(cos(x**2))\n",
    "print(\"\")"
   ]
  },
  {
   "cell_type": "code",
   "execution_count": 8,
   "id": "e50a55e9-84f2-414c-9e7f-4878c941d54f",
   "metadata": {},
   "outputs": [
    {
     "name": "stdout",
     "output_type": "stream",
     "text": [
      "15.96288650285744\n"
     ]
    }
   ],
   "source": [
    "# Using your code, find a value of h for which q1(h) is approximately equal to 16.\n",
    "h_q_1 = 0.6927\n",
    "q_1_num_1 = comp_trapezoidal(lambda x: math.cos(x**2), 0, sqrt_pi, h_q_1 / 2)\n",
    "q_1_num_2 = comp_trapezoidal(lambda x: math.cos(x**2), 0, sqrt_pi, h_q_1)\n",
    "q_1_denom_1 = comp_trapezoidal(lambda x: math.cos(x**2), 0, sqrt_pi, h_q_1 / 4)\n",
    "q_2_denom_2 = comp_trapezoidal(lambda x: math.cos(x**2), 0, sqrt_pi, h_q_1 / 2)\n",
    "print((q_1_num_1 - q_1_num_2) / (q_1_denom_1 - q_2_denom_2))"
   ]
  },
  {
   "cell_type": "code",
   "execution_count": 10,
   "id": "9a33724d-2ed2-4ebb-94e5-efa8aae0d7fd",
   "metadata": {},
   "outputs": [
    {
     "name": "stdout",
     "output_type": "stream",
     "text": [
      "1.) e**x − 1 = O(x**2) as x → 0\n",
      "To answer this, we can take the limit x → 0 of (e**x -1)/x**2\n",
      "Using L'Hospital's Rule, we can rewrite this as limit x → 0 of e**x/2x = 1/0 therefore, this is assertion is false\n",
      "Since the limit not equal to 0.\n",
      "\n",
      "2.) x**-2 = O(cot(x)) as x → 0\n",
      "Similarly, we can take the limit x → 0 of tan(x)/x**2\n",
      "Again, by L'Hospital's Rule, we rewrite this as sec(2x)/x**2 = 1/0\n",
      "Therefore false since limit != 0.\n",
      "\n",
      "3.) cot(x) = O(x**-1) as x → 0\n",
      "Finally, taking the limit x → 0 of x/tan(x) = limit x → 0 of 1/sec(2x) = 1/0 (by L'Hospital's Rule)\n",
      "We see that similarly to 2.) we have a non-zero limit, therefore the assertion is not true.\n"
     ]
    }
   ],
   "source": [
    "# Show that these assertions are not true.\n",
    "print(\"1.) e**x − 1 = O(x**2) as x → 0\")\n",
    "print(\"To answer this, we can take the limit x → 0 of (e**x -1)/x**2\")\n",
    "print(\"Using L'Hospital's Rule, we can rewrite this as limit x → 0 of e**x/2x = 1/0 therefore, this is assertion is false\")\n",
    "print(\"Since the limit not equal to 0.\\n\")\n",
    "\n",
    "print(\"2.) x**-2 = O(cot(x)) as x → 0\")\n",
    "print(\"Similarly, we can take the limit x → 0 of tan(x)/x**2\")\n",
    "print(\"Again, by L'Hospital's Rule, we rewrite this as sec(2x)/x**2 = 1/0\")\n",
    "print(\"Therefore false since limit != 0.\\n\")\n",
    "\n",
    "print(\"3.) cot(x) = O(x**-1) as x → 0\")\n",
    "print(\"Finally, taking the limit x → 0 of x/tan(x) = limit x → 0 of 1/sec(2x) = 1/0 (by L'Hospital's Rule)\")\n",
    "print(\"We see that similarly to 2.) we have a non-zero limit, therefore the assertion is not true.\")"
   ]
  },
  {
   "cell_type": "code",
   "execution_count": null,
   "id": "e14ba69d-293e-4945-b841-809b65f617ca",
   "metadata": {},
   "outputs": [],
   "source": []
  }
 ],
 "metadata": {
  "kernelspec": {
   "display_name": "Python 3 (ipykernel)",
   "language": "python",
   "name": "python3"
  },
  "language_info": {
   "codemirror_mode": {
    "name": "ipython",
    "version": 3
   },
   "file_extension": ".py",
   "mimetype": "text/x-python",
   "name": "python",
   "nbconvert_exporter": "python",
   "pygments_lexer": "ipython3",
   "version": "3.9.10"
  }
 },
 "nbformat": 4,
 "nbformat_minor": 5
}
