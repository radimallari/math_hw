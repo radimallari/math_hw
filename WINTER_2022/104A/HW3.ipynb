{
 "cells": [
  {
   "cell_type": "markdown",
   "metadata": {},
   "source": [
    "<h1>\n",
    "    <center>\n",
    "        Math 104A Homework 3\n",
    "    </center>\n",
    "</h1>\n",
    "<h2>\n",
    "    <center>\n",
    "        Rad Mallari\n",
    "    <br>\n",
    "        8360828\n",
    "    </center>\n",
    "</h2>"
   ]
  },
  {
   "cell_type": "code",
   "execution_count": 1,
   "metadata": {},
   "outputs": [
    {
     "data": {
      "text/latex": [
       "\n",
       "$$p_{n}(x)=\\sum_{j=0}^{n}f(x_{j})(l_{j}(x))$$ \n",
       "\n",
       "We can look for our $l_{j}(x)$ which are given by\n",
       "$$l_{i}(x)=\\prod_{j=0,\\text{ }j \\neq 1}^{n}\\frac{x-x_{j}}{x_{i}-x_{j}}$$\n",
       "So for each $i=2$ we have\n",
       "$$l_{0}(x)=\\frac{(x-x_{1})(x-x_{2})}{(x_{0}-x_{1})(x_{0}-x_{2})}=\\frac{x(x-1)}{6}$$\n",
       "$$l_{1}(x)=\\frac{(x-x_{0})(x-x_{2})}{(x_{1}-x_{0})(x_{1}-x_{2})}=\\frac{-x^{2}+x-2}{2}$$\n",
       "$$l_{2}(x)=\\frac{(x-x_{0})(x-x_{1})}{(x_{2}-x_{0})(x_{2}-x_{1})}=\\frac{x(x+2)}{3}$$\n",
       "\n",
       "And we get the polynomial\n",
       "$$p_{2}(x)=\\frac{-5x^{2}-7x+6}{6}$$\n",
       "\n",
       "Approximating $f(-1)$ gives us\n",
       "$$p_{2}(-1)=\\frac{-5(1)^{2}-7(-1)+6}{6}=\\frac{-5+7+6}{6}=\\frac{2}{3}$$\n"
      ],
      "text/plain": [
       "<IPython.core.display.Latex object>"
      ]
     },
     "execution_count": 1,
     "metadata": {},
     "output_type": "execute_result"
    }
   ],
   "source": [
    "\n",
    "from IPython.display import Latex\n",
    "Latex('''\n",
    "$$p_{n}(x)=\\sum_{j=0}^{n}f(x_{j})(l_{j}(x))$$ \n",
    "\n",
    "We can look for our $l_{j}(x)$ which are given by\n",
    "$$l_{i}(x)=\\prod_{j=0,\\\\text{ }j \\\\neq 1}^{n}\\\\frac{x-x_{j}}{x_{i}-x_{j}}$$\n",
    "So for each $i=2$ we have\n",
    "$$l_{0}(x)=\\\\frac{(x-x_{1})(x-x_{2})}{(x_{0}-x_{1})(x_{0}-x_{2})}=\\\\frac{x(x-1)}{6}$$\n",
    "$$l_{1}(x)=\\\\frac{(x-x_{0})(x-x_{2})}{(x_{1}-x_{0})(x_{1}-x_{2})}=\\\\frac{-x^{2}+x-2}{2}$$\n",
    "$$l_{2}(x)=\\\\frac{(x-x_{0})(x-x_{1})}{(x_{2}-x_{0})(x_{2}-x_{1})}=\\\\frac{x(x+2)}{3}$$\n",
    "\n",
    "And we get the polynomial\n",
    "$$p_{2}(x)=\\\\frac{-5x^{2}-7x+6}{6}$$\n",
    "\n",
    "Approximating $f(-1)$ gives us\n",
    "$$p_{2}(-1)=\\\\frac{-5(1)^{2}-7(-1)+6}{6}=\\\\frac{-5+7+6}{6}=\\\\frac{2}{3}$$\n",
    "''')"
   ]
  },
  {
   "cell_type": "code",
   "execution_count": null,
   "metadata": {},
   "outputs": [],
   "source": []
  }
 ],
 "metadata": {
  "kernelspec": {
   "display_name": "Python 3",
   "language": "python",
   "name": "python3"
  },
  "language_info": {
   "codemirror_mode": {
    "name": "ipython",
    "version": 3
   },
   "file_extension": ".py",
   "mimetype": "text/x-python",
   "name": "python",
   "nbconvert_exporter": "python",
   "pygments_lexer": "ipython3",
   "version": "3.7.4"
  }
 },
 "nbformat": 4,
 "nbformat_minor": 4
}
