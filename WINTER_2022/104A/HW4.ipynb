{
 "cells": [
  {
   "cell_type": "code",
   "execution_count": 1,
   "metadata": {},
   "outputs": [],
   "source": [
    "import math\n",
    "from typing import List\n",
    "\n",
    "from matplotlib import pyplot as plt"
   ]
  },
  {
   "cell_type": "code",
   "execution_count": 2,
   "metadata": {},
   "outputs": [],
   "source": [
    "\"\"\"\n",
    "1.) Write computer codes to compute the coefficients c_0, c_1,...,c_n and to \n",
    "evaluate the corresponding interpolation polynomial at an arbitrary point x. \n",
    "Test your code and turn in a run of your test. \n",
    "\"\"\"\n",
    "def newton_coefficients(x: List[float], f_x: List[float]):\n",
    "    \"\"\"Finds the coefficients for Newton's interpolation form.\n",
    "    :param x: List of nodes.\n",
    "    :param f_x: List of values at x nodes.\n",
    "    :return: List of coefficients used for Newton's interpolation polynomial.\n",
    "    \"\"\"\n",
    "    n = len(x)\n",
    "    c = f_x\n",
    "    for k in range(1, n):\n",
    "        for j in range(n - 1, k - 1, -1):\n",
    "            c[j] = (c[j] - c[j - 1]) / (x[j] - x[j - k])\n",
    "    return c\n",
    "\n",
    "\n",
    "def interpolation_polynomial(x: float, x_j: List[float], c: List[float]):\n",
    "    \"\"\"Uses Horner-like scheme to create Newton's polynomial.\n",
    "    :param x: Point to evaluate the polynomial at\n",
    "    :param x_j: List of nodes\n",
    "    :param c: List of polynomial coefficients\n",
    "    :return:\n",
    "    \"\"\"\n",
    "    n = len(c) - 1\n",
    "    p = c[n]\n",
    "\n",
    "    for j in range(n, 0, -1):\n",
    "        p = (x - x_j[j - 1]) * p + c[j - 1]\n",
    "    return p"
   ]
  },
  {
   "cell_type": "code",
   "execution_count": 3,
   "metadata": {},
   "outputs": [
    {
     "name": "stdout",
     "output_type": "stream",
     "text": [
      " -------------------------------------------------\n",
      "|Test your codes and turn in a run of your test.|\n",
      " -------------------------------------------------\n",
      "[1, 1.5, 1.125, -0.17976190476190476]\n",
      "28.37142857142857\n",
      "\n",
      "\n",
      " --------------------------------------------------------------------------------------------------\n",
      "|Consider f(x) = xe^{-x^{2}} for x in [-1, 1] with nodes x_j = -1 + j(2/10) for j = 0, 1, ..., 100|\n",
      " --------------------------------------------------------------------------------------------------\n",
      "[-2.718281828459045, 6.005485625075421, -6.798875878841591, 5.777423248730219, -3.6477517800001955, 2.059950229854935, -0.8967347795691796, 0.4143727957645485, -0.1176379681123087, 0.06535442672907697, -3.422262473407045e-14]\n",
      "\n",
      "\n",
      " -------------------------------------------------------------------------------\n",
      "|Evaluate p_10_coeffs(x) at points x^{bar} = -1 + j(2/10) for j = 0, 1, ..., 100|\n",
      " -------------------------------------------------------------------------------\n",
      "[-2.718281828459045, 7.889764735125053, -12.606112981153295, 15.243832440142329, -14.830360505893443, 12.432649445315537, -9.162655302082728, 6.1026052640632065, -3.7118689152117406, 2.0918726627835875, -1.1018747816963461, 0.5629894996242295, -0.36044963616763637, 0.5221862990450042, -0.6526851585859442, -6.222887133712091, 70.33176559914924, -426.033384318273, 1676.8258986230778, -2435.680052795681, -27204.406989024526, 324188.6436838271, -2281371.2289189333, 12738467.981469905, -61008935.23490221, 259052026.5868144, -992068366.8398452, 3459538530.859048, -11040443682.21639, 32285802698.603836, -86269920854.07645, 208711185935.31577, -447324261961.3897, 804230805070.761, -1005209792994.6742, -193223423165.37857, 6746831790837.391, -29064292219838.715, 90599062525990.69, -235775520319654.0, 528066737311073.75, -998333117304781.4, 1431718066140862.2, -723099491934963.0, -4781796487401692.0, 2.509993718997923e+16, -8.461142975765483e+16, 2.3754394592906755e+17, -5.957793776958326e+17, 1.37531602912691e+18, -2.9685920711262807e+18, 6.049461436644929e+18, -1.1715700364312578e+19, 2.167183632444103e+19, -3.845734980289457e+19, 6.574156672188006e+19, -1.0875313384729225e+20, 1.7501155898352386e+20, -2.7570655138050186e+20, 4.283484940114444e+20, -6.616936383007434e+20, 1.024401598790698e+21, -1.599336105754854e+21, 2.525747485472814e+21, -4.031608540685484e+21, 6.477926814070286e+21, -1.0415757532937283e+22, 1.6654790653953647e+22, -2.633979028267126e+22, 4.1027975890425495e+22, -6.2756960615785795e+22, 9.408956641797405e+22, -1.381193203783847e+23, 1.9841940556473974e+23, -2.7891904150533197e+23, 3.836953935119684e+23, -5.1667663120995794e+23, 6.812627208214578e+23, -8.798843277222843e+23, 1.1135353673742848e+24, -1.3813289413627597e+24, 1.6801366345763847e+24, -2.0043742643254685e+24, 2.345990561607477e+24, -2.694697715725043e+24, 3.038455086565372e+24, -3.3641829207473196e+24, 3.6586469480632893e+24, -3.909423872635325e+24, 4.10583849098171e+24, -4.239760318575955e+24, 4.3061631022276817e+24, -4.303382698566521e+24, 4.233052232479602e+24, -4.0997403803314273e+24, 3.9103603037378124e+24, -3.6734454437046414e+24, 3.3983990406074774e+24, -3.0948156444286504e+24, 2.7719477914053645e+24, -2.438355482117769e+24]\n",
      "\n",
      "\n",
      " ----------------------------------\n",
      "|Plot error f(x) - p_100_coeffs(x)|\n",
      " ----------------------------------\n",
      "[0.0, 0.0, 0.0, 0.0, 0.0, 0.0, 0.0, 0.0, 0.0, 0.0, 0.0, 0.0, 0.0, -2.220446049250313e-16, 0.0, 2.220446049250313e-16, -2.220446049250313e-16, 0.0, -3.3306690738754696e-16, -1.1102230246251565e-16, -3.3306690738754696e-16, 0.0, -2.220446049250313e-16, 0.0, -2.220446049250313e-16, -2.220446049250313e-16, -4.440892098500626e-16, -3.3306690738754696e-16, 2.220446049250313e-16, -3.3306690738754696e-16, 1.6653345369377348e-16, 5.551115123125783e-17, -6.661338147750939e-16, -3.885780586188048e-16, -4.996003610813204e-16, 2.7755575615628914e-16, -4.440892098500626e-16, 7.771561172376096e-16, -2.220446049250313e-16, 9.43689570931383e-16, 9.936496070395151e-15, 2.275957200481571e-15, -3.366751322175787e-14, -1.2170819907453279e-13, 4.991285162958548e-13, 7.561729020721941e-13, 1.1802642196911961e-12, 2.705710655526161e-12, 2.2648272146597037e-12, -9.343022883134822e-12, -3.33510996597397e-13, 2.839700107004628e-10, -3.6240030421019753e-10, -8.832594516894332e-10, 3.4892238126582598e-09, -7.29711999158944e-09, -2.627210124450663e-08, -6.662684931546536e-09, -4.08418883851569e-07, -8.154833719964394e-07, -1.6307467751164317e-06, 1.9686870261770295e-07, 1.1047541748077094e-07, -6.578210556706932e-05, -4.087650389461572e-05, 7.341328788379453e-06, 0.0007824179688598054, 0.0035455132558080416, 0.008914204867678577, 0.002082147052708927, 0.17548445191438633, 0.21128236015936797, 1.542427510253138, 4.765560727111014, 18.233425509413113, -6.1980283325464045, -276.5214072848528, -333.9244205259848, -1598.7304723737645, -3337.257406706855, 14920.61472870076, 23645.781120149742, 45803.95777667443, -16411.578856151827, -1209301.93024623, -4671111.490718087, 47019.7033094692, -18506603.45376617, 8252317.106046082, 8337131.489840948, -303708622.85347605, -757187703.6942973, -47719577.43960556, -5886563141.831871, 20227075226.188244, 122802216082.53265, 187950988868.49536, 1013060895496.484, 10023901962772.307, 11845091382674.354, 99816762687726.31]\n"
     ]
    }
   ],
   "source": [
    "#Test your codes and turn in a run of your test.\n",
    "print(\" -------------------------------------------------\")\n",
    "print(\"|Test your codes and turn in a run of your test.|\")\n",
    "print(\" -------------------------------------------------\")\n",
    "x = [1, 3, 5, 8]\n",
    "y = [1, 4, 16, 32]\n",
    "\n",
    "coeffs = newton_coefficients(x, y)\n",
    "print(coeffs)\n",
    "print(interpolation_polynomial(7, x, coeffs))\n",
    "\n",
    "# consider f(x) = xe^{-x^{2}} for x in [-1, 1]\n",
    "# with nodes x_j = -1 + j(2/10) for j = 0, 1, ..., 100\n",
    "print(\"\\n\\n --------------------------------------------------------------------------------------------------\")\n",
    "print(\"|Consider f(x) = xe^{-x^{2}} for x in [-1, 1] with nodes x_j = -1 + j(2/10) for j = 0, 1, ..., 100|\")\n",
    "print(\" --------------------------------------------------------------------------------------------------\")\n",
    "f = lambda x: x * math.e ** ((-x) ** 2)\n",
    "x_j = [-1 + j * (2 / 10) for j in range(11)]\n",
    "f_x = [f(x) for x in x_j]\n",
    "p_10_coeffs = newton_coefficients(x_j, f_x)\n",
    "print(p_10_coeffs)\n",
    "\n",
    "# evaluate p_10_coeffs(x) at points x^{bar} = -1 + j(2/10) for j = 0, 1, ..., 100\n",
    "x_j = [-1 + j * (2 / 100) for j in range(101)]\n",
    "f_x = [f(x) for x in x_j]\n",
    "p_100_coeffs = newton_coefficients(x_j, f_x)\n",
    "\n",
    "print(\"\\n\\n -------------------------------------------------------------------------------\")\n",
    "print(\"|Evaluate p_10_coeffs(x) at points x^{bar} = -1 + j(2/10) for j = 0, 1, ..., 100|\")\n",
    "print(\" -------------------------------------------------------------------------------\")\n",
    "print(p_100_coeffs)\n",
    "\n",
    "# plot error f(x) - p_100_coeffs(x)\n",
    "print(\"\\n\\n ----------------------------------\")\n",
    "print(\"|Plot error f(x) - p_100_coeffs(x)|\")\n",
    "print(\" ----------------------------------\")\n",
    "error = []\n",
    "for x in x_j:\n",
    "    error.append(f(x) - interpolation_polynomial(x, x_j, p_100_coeffs))\n",
    "print(error)"
   ]
  },
  {
   "cell_type": "code",
   "execution_count": 4,
   "metadata": {},
   "outputs": [
    {
     "name": "stdout",
     "output_type": "stream",
     "text": [
      "\n",
      "    In order to do this we first find our coefficients given by:\n",
      "\n",
      "    x_j         0th         1st                                  2nd                                       3rd\n",
      "     0        f(0)=0   f[0,0]=f'(0)/1=0             f[0,0,1]=(f[0,1]-f[0,0])/(1-0)=2     f[0,0,1,1]=(f[0,1,1]-f[0,0,1])/(1-0)=-1          \n",
      "     0        f(0)=0   f[0,1]=(f(1)-f(0))/(1-0)=2   f[0,1,1]=(f[1,1]-f[0,1])/(1-0)=3\n",
      "     1        f(1)=2   f[1,1]=f'(1)/1=3\n",
      "     1        f(1)=2\n",
      "\n",
      "    Then using the Newton interpolation polynomial:\n",
      "    p_k(x)=f(x_0)+f[x_0,x_1](x-x_0)+...+f[x_0,x_1,...,x_k](x-x_0)...(x-x_k-1)\n",
      "    we can obtain\n",
      "    p_3(x)=f(0)+f[0,0](x-x_0)+f[0,0,1](x-x_0)(x-x_1)+f[0,0,1,1](x-x_0)(x-x_1)(x-x_2)\n",
      "          =0+0(x-0)+2(x-0)(x-0)+(-1)(x-0)(x-0)(x-1)\n",
      "          =2x^(2)+(-1)x^(3)-x^(2)\n",
      "          =-x^(3)+x^(2)\n",
      "\n"
     ]
    }
   ],
   "source": [
    "\"\"\"\n",
    "2.) Obtain the Hermite interpolation polynomial corresponding to the data\n",
    "f(0) = 0, f'(0) = 0, f(1) = 2, f'(1) = 3.\n",
    "\"\"\"\n",
    "\n",
    "print(\"\"\"\n",
    "    In order to do this we first find our coefficients given by:\n",
    "\n",
    "    x_j         0th         1st                                  2nd                                       3rd\n",
    "     0        f(0)=0   f[0,0]=f'(0)/1=0             f[0,0,1]=(f[0,1]-f[0,0])/(1-0)=2     f[0,0,1,1]=(f[0,1,1]-f[0,0,1])/(1-0)=-1          \n",
    "     0        f(0)=0   f[0,1]=(f(1)-f(0))/(1-0)=2   f[0,1,1]=(f[1,1]-f[0,1])/(1-0)=3\n",
    "     1        f(1)=2   f[1,1]=f'(1)/1=3\n",
    "     1        f(1)=2\n",
    "\n",
    "    Then using the Newton interpolation polynomial:\n",
    "    p_k(x)=f(x_0)+f[x_0,x_1](x-x_0)+...+f[x_0,x_1,...,x_k](x-x_0)...(x-x_k-1)\n",
    "    we can obtain\n",
    "    p_3(x)=f(0)+f[0,0](x-x_0)+f[0,0,1](x-x_0)(x-x_1)+f[0,0,1,1](x-x_0)(x-x_1)(x-x_2)\n",
    "          =0+0(x-0)+2(x-0)(x-0)+(-1)(x-0)(x-0)(x-1)\n",
    "          =2x^(2)+(-1)x^(3)-x^(2)\n",
    "          =-x^(3)+x^(2)\n",
    "\"\"\")"
   ]
  },
  {
   "cell_type": "code",
   "execution_count": 5,
   "metadata": {},
   "outputs": [
    {
     "name": "stdout",
     "output_type": "stream",
     "text": [
      "\n",
      "A piecewise linear function, say f(x), that interpolates the points is:\n",
      "      /  x+2 for 0<x<=1\n",
      "f(x)= | -x+3 for 1<x<=2\n",
      "      \\ 3x-5 for 2<x<=3\n",
      "\n"
     ]
    }
   ],
   "source": [
    "\"\"\"\n",
    "3.) In class, we learned to use piecewise cubic splines that interpolate a \n",
    "function. Find a piecewise linear function that interpolates \n",
    "(0, 2), (1, 2),(2, 1),(3, 9).\n",
    "\"\"\"\n",
    "print(\"\"\"\n",
    "A piecewise linear function, say f(x), that interpolates the points is:\n",
    "      /  x+2 for 0<x<=1\n",
    "f(x)= | -x+3 for 1<x<=2\n",
    "      \\ 3x-5 for 2<x<=3\n",
    "\"\"\")"
   ]
  },
  {
   "cell_type": "code",
   "execution_count": 6,
   "metadata": {},
   "outputs": [],
   "source": [
    "\"\"\"\n",
    "4.) Write a code to compute a natural spline S(x) which interpolates a collection\n",
    "of given points (x0, y0),(x1, y1), ··· ,(xn, yn) where x0 < x1 < ··· < xn (do not assume\n",
    "they are equidistributed). Your code should have a triadiagonal solver for the resulting\n",
    "linear system of equations.\n",
    "\"\"\"\n",
    "\n",
    "def tridiagonal_matrix_solver(a, b, c, d):\n",
    "    n = len(a)\n",
    "    # Initialize variables\n",
    "    m, l, u, y, x = [], [], [], [], [0 for i in range(n + 1 )]\n",
    "\n",
    "    m.append(a[0])\n",
    "    for j in range(0, n):\n",
    "        l.append(c[j - 1] / m[j - 1])\n",
    "        u.append(b[j - 1])\n",
    "        m.append(a[j] - l[j - 1] * b[j - 1])\n",
    "\n",
    "    # Forward substitution\n",
    "    y.append(d[0])\n",
    "    for j in range(0, n):\n",
    "        y.append(d[j] - l[j - 1] * y[j - 1])\n",
    "\n",
    "    # Backward substitution\n",
    "    for j in range(n, -1, -1):\n",
    "        if j == n:\n",
    "            x[j] = y[j] / m[j]\n",
    "            continue\n",
    "        x[j] = (y[j] - b[j] * x[j + 1]) / m[j]\n",
    "    return x\n",
    "\n",
    "\n",
    "def natural_cubic_spline_coeffs(x: List[int], y: List[int]):\n",
    "    n = len(x)\n",
    "    h = [x[i + 1] - x[i] for i in range(n - 1)]\n",
    "    matrix_a_coeffs = [2 * (h[i] + h[i + 1]) for i in range(n - 2)]\n",
    "    matrix_b_coeffs = matrix_c_coeffs = [h[i] for i in range(n - 2)]\n",
    "    matrix_d_coeffs = []\n",
    "\n",
    "    for i in range(n - 2):\n",
    "        matrix_d_coeffs.append(\n",
    "            -6 / h[i] * (y[1] - y[0]) + 6 / h[i + 1] * (y[i + 2] - y[i - 1])\n",
    "        )\n",
    "\n",
    "    z = tridiagonal_matrix_solver(\n",
    "        matrix_a_coeffs, matrix_b_coeffs, matrix_c_coeffs, matrix_d_coeffs\n",
    "    )\n",
    "\n",
    "    polynomial_coeffs = []\n",
    "    for j in range(n - 2):\n",
    "        a_j = (1 / h[j] * (z[j + 1] - z[j]))\n",
    "        b_j = z[j] / 2\n",
    "        c_j = 1 / h[j] * (y[j + 1] - y[j]) - (h[j] / 6 * (z[j + 1] + 2 * z[j]))\n",
    "        d_j = y[j]\n",
    "        polynomial_coeffs.append((a_j, b_j, c_j, d_j))\n",
    "    return polynomial_coeffs"
   ]
  },
  {
   "cell_type": "code",
   "execution_count": 7,
   "metadata": {},
   "outputs": [
    {
     "name": "stdout",
     "output_type": "stream",
     "text": [
      "S_0(0<x<=1) = -0.5711488785928083 + -17.31634650867194 (x-0)+ 20.41153798843741 (x-0)^2+ 5 (x-0)^3\n",
      "S_0(1<x<=2) = 22.64382508507934 + -17.601920947968345 (x-1)+ 22.107958505883797 (x-1)^2+ 8 (x-1)^3\n",
      "S_0(2<x<=3) = 2.4746402066505393 + 5.0419041371109925 (x-3)+ -8.171006054642119 (x-3)^2+ 12 (x-3)^3\n",
      "S_0(3<x<=4) = -6.581450653983353 + 8.753864447086801 (x-6)+ -5.1200951248513675 (x-6)^2+ 44 (x-6)^3\n"
     ]
    }
   ],
   "source": [
    "x = [0, 1, 3, 6, 8, 12]\n",
    "y = [5, 8, 12, 44, 60, 87]\n",
    "coeffs = natural_cubic_spline_coeffs(x, y)\n",
    "\n",
    "n = len(x)\n",
    "for i in range(n - 2):\n",
    "    print(f\"S_0({i}<x<={i + 1}) = {coeffs[i][0]} + {coeffs[i][1]} (x-{x[i]})+ {coeffs[i][2]} (x-{x[i]})^2+ {coeffs[i][3]} (x-{x[i]})^3\")"
   ]
  },
  {
   "cell_type": "code",
   "execution_count": 8,
   "metadata": {},
   "outputs": [
    {
     "name": "stdout",
     "output_type": "stream",
     "text": [
      "Cubic spline of (x_j, y_j) for j = 0, ..., 8\n",
      "S_0(0<x<=1) = 7.147318416959333 + 3.3485488812719493 (x-1.5)+ 1.3302902237456093 (x-1.5)^2+ 0.75 (x-1.5)^3\n",
      "S_0(1<x<=2) = -2.2161777236624447 + 1.2043533561841495 (x-0.9)+ 0.061215339376848366 (x-0.9)^2+ 0.9 (x-0.9)^3\n",
      "S_0(2<x<=3) = 43.38505671506665 + 1.5367800147335162 (x-0.6)+ 0.7322673295681013 (x-0.6)^2+ 1.0 (x-0.6)^3\n",
      "S_0(3<x<=4) = 739.3007690585034 + -3.8863520746498157 (x-0.35)+ -1.0219973618335247 (x-0.35)^2+ 0.8 (x-0.35)^3\n",
      "S_0(4<x<=5) = -1149.0606208661065 + -59.33390975403756 (x-0.2)+ -1.5182899406269117 (x-0.2)^2+ 0.45 (x-0.2)^3\n",
      "S_0(5<x<=6) = -13.837045167041207 + -1.8808787107322298 (x-0.1)+ 0.8713393554139908 (x-0.1)^2+ 0.2 (x-0.1)^3\n",
      "S_0(6<x<=7) = 18.737766180000055 + -4.648287744140471 (x-0.5)+ 1.743403614570233 (x-0.5)^2+ 0.1 (x-0.5)^3\n",
      "\n",
      "\n",
      "Cubic spline of (t_j, y_j) for j = 0, ..., 8\n",
      "S_0(0<t<=1) = 0.8656869965550764 + 2.493699010476398 (t-0)+ -1.3534919819511888 (t-0)^2+ 0.75 (t-0)^3\n",
      "S_0(1<t<=2) = -27.497651009657726 + 2.7611962924119164 (t-0.618)+ -0.09930656939378368 (t-0.618)^2+ 0.9 (t-0.618)^3\n",
      "S_0(2<t<=3) = -8.032665295591125 + -1.597181392618834 (t-0.935)+ 0.023188866682781417 (t-0.935)^2+ 1.0 (t-0.935)^3\n",
      "S_0(3<t<=4) = -21.00237788552037 + -2.882407839913413 (t-1.255)+ 0.6876832457766728 (t-1.255)^2+ 0.8 (t-1.255)^3\n",
      "S_0(4<t<=5) = 21.71990671209232 + -6.883360827105044 (t-1.636)+ 0.6603103378191958 (t-1.636)^2+ 0.45 (t-1.636)^3\n",
      "S_0(5<t<=6) = 19.597506705263296 + -3.9620333743286253 (t-1.905)+ 0.8352127739250836 (t-1.905)^2+ 0.2 (t-1.905)^3\n",
      "S_0(6<t<=7) = 0.6852968698977455 + 0.07505300695561452 (t-2.317)+ 0.12809377851511847 (t-2.317)^2+ 0.1 (t-2.317)^3\n"
     ]
    }
   ],
   "source": [
    "\"\"\"\n",
    "5.) Use the values in Table 1 to construct a smooth parametric \n",
    "representation of a curve passing through the points (xj , yj ), j = 0, \n",
    "1, ··· , 8 by finding the two natural cubic splines interpolating and (\n",
    "tj , yj ),j = 0, 1, ··· , 8, respectively. Tabulate the coefficients of \n",
    "the splines and plot the resulting parametric curve.\n",
    "\n",
    "j       t_j     x_j      y_j\n",
    "0        0      1.5      0.75\n",
    "1      0.618    0.9      0.9\n",
    "2      0.935    0.6      1.0\n",
    "3      1.255    0.35     0.8\n",
    "4      1.636    0.2      0.45\n",
    "5      1.905    0.1      0.2\n",
    "6      2.317    0.5      0.1\n",
    "7      2.827    1.0      0.2\n",
    "8      3.330    1.5      0.25\n",
    "\"\"\"\n",
    "# Cubic spline of (x_j, y_j) for j = 0, ..., 8\n",
    "print(\"Cubic spline of (x_j, y_j) for j = 0, ..., 8\")\n",
    "x = [1.5, 0.9, 0.6, 0.35, 0.2, 0.1, 0.5, 1.0, 1.5]\n",
    "y = [0.75, 0.9, 1.0, 0.8, 0.45, 0.2, 0.1, 0.2, 0.25]\n",
    "n = len(x)\n",
    "coeffs_xj_yj = natural_cubic_spline_coeffs(x, y)\n",
    "for i in range(n - 2):\n",
    "    print(f\"S_0({i}<x<={i + 1}) = {coeffs_xj_yj[i][0]} + {coeffs_xj_yj[i][1]} (x-{x[i]})+ {coeffs_xj_yj[i][2]} (x-{x[i]})^2+ {coeffs_xj_yj[i][3]} (x-{x[i]})^3\")\n",
    "\n",
    "    \n",
    "# Cubic spline of (t_j, y_j) for j = 0, ..., 8\n",
    "print(\"\\n\\nCubic spline of (t_j, y_j) for j = 0, ..., 8\")\n",
    "y = [0.75, 0.9, 1.0, 0.8, 0.45, 0.2, 0.1, 0.2, 0.25]\n",
    "t = [0, 0.618, 0.935, 1.255, 1.636, 1.905, 2.317, 2.827, 3.330]\n",
    "n = len(t)\n",
    "coeffs_tj_yj = natural_cubic_spline_coeffs(t, y)\n",
    "for i in range(n - 2):\n",
    "    print(f\"S_0({i}<t<={i + 1}) = {coeffs_tj_yj[i][0]} + {coeffs_tj_yj[i][1]} (t-{t[i]})+ {coeffs_tj_yj[i][2]} (t-{t[i]})^2+ {coeffs_tj_yj[i][3]} (t-{t[i]})^3\")\n"
   ]
  },
  {
   "cell_type": "code",
   "execution_count": 9,
   "metadata": {},
   "outputs": [
    {
     "data": {
      "text/plain": [
       "<matplotlib.legend.Legend at 0x224215fdfc8>"
      ]
     },
     "execution_count": 9,
     "metadata": {},
     "output_type": "execute_result"
    },
    {
     "data": {
      "image/png": "[encoded data removed]",
      "text/plain": [
       "<Figure size 432x288 with 1 Axes>"
      ]
     },
     "metadata": {
      "needs_background": "light"
     },
     "output_type": "display_data"
    }
   ],
   "source": [
    " y = [0.75, 0.9, 1.0, 0.8, 0.45, 0.2, 0.1, 0.2, 0.25]\n",
    "t = [0, 0.618, 0.935, 1.255, 1.636, 1.905, 2.317, 2.827, 3.330]\n",
    "fig = plt.figure()\n",
    "ax = fig.add_axes([0, 0, 1, 1])\n",
    "ax.plot(t, y, label=\"Parametric Curve\")\n",
    "ax.legend()"
   ]
  },
  {
   "cell_type": "code",
   "execution_count": null,
   "metadata": {},
   "outputs": [],
   "source": []
  }
 ],
 "metadata": {
  "kernelspec": {
   "display_name": "Python 3",
   "language": "python",
   "name": "python3"
  },
  "language_info": {
   "codemirror_mode": {
    "name": "ipython",
    "version": 3
   },
   "file_extension": ".py",
   "mimetype": "text/x-python",
   "name": "python",
   "nbconvert_exporter": "python",
   "pygments_lexer": "ipython3",
   "version": "3.7.4"
  }
 },
 "nbformat": 4,
 "nbformat_minor": 4
}
